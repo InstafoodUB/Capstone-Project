{
 "cells": [
  {
   "cell_type": "markdown",
   "metadata": {
    "collapsed": true
   },
   "source": [
    "# Get images from Imagenet\n",
    "\n",
    "Codi per a la descàrrega d'imatges des de Imagenet a través de les urls d'aquestes. Aquest codi s'ha passat per a cada tipus de cuina, i dins d'aquests tipus, per les subcarpetes d'Imagenet que són subtipus del primer"
   ]
  },
  {
   "cell_type": "code",
   "execution_count": null,
   "metadata": {
    "collapsed": true
   },
   "outputs": [],
   "source": [
    "import urllib2\n",
    "import urllib\n",
    "import re\n",
    "import time\n",
    "import string\n",
    "import os\n",
    "import sys"
   ]
  },
  {
   "cell_type": "code",
   "execution_count": null,
   "metadata": {
    "collapsed": false
   },
   "outputs": [],
   "source": [
    "#nom de la carpeta d'Imagenet, que desprès será el nom de les fotos seguit d'un comptador\n",
    "#per exemple, pizza\n",
    "dish = 'pizza'\n",
    "#ID de la carpeta d'Imagenet, el qual a través de la direcció de la següent linea de codi ens porta\n",
    "#a una web amb tots els urls de les fotos de la carpeta\n",
    "#per exemple, ID per a la carpeta pizza\n",
    "ID = 'n07873807'\n",
    "response = urllib2.urlopen('http://www.image-net.org/api/text/imagenet.synset.geturls?wnid='+ID)\n",
    "urls = re.sub('\\r\\n', '', response.read()).split('http')[1:]\n",
    "#ens quedem amb una llista de urls\n",
    "urls = ['http'+url for url in urls]"
   ]
  },
  {
   "cell_type": "code",
   "execution_count": null,
   "metadata": {
    "collapsed": false
   },
   "outputs": [],
   "source": [
    "len(urls)"
   ]
  },
  {
   "cell_type": "code",
   "execution_count": null,
   "metadata": {
    "collapsed": false
   },
   "outputs": [],
   "source": [
    "counter = 1\n",
    "error = 0\n",
    "for url in urls:   \n",
    "    #evitem les urls caigudes, que n'hi ha moltes\n",
    "    try:\n",
    "        #guardem la imatge a la mateixa carpeta on está el notebook, \n",
    "        #ja que hi ha tants notebooks com tipus i subtipus de cuina a descarregar\n",
    "        urllib.urlretrieve(url, dish+str(counter)+'.jpg')\n",
    "        print counter\n",
    "        counter += 1\n",
    "    except IOError:\n",
    "        error += 1\n",
    "        continue\n",
    "    except Exception:\n",
    "        error += 1\n",
    "        continue\n",
    "print(\"Images Downloaded\")"
   ]
  },
  {
   "cell_type": "code",
   "execution_count": null,
   "metadata": {
    "collapsed": true
   },
   "outputs": [],
   "source": []
  }
 ],
 "metadata": {
  "kernelspec": {
   "display_name": "Python 2",
   "language": "python",
   "name": "python2"
  },
  "language_info": {
   "codemirror_mode": {
    "name": "ipython",
    "version": 2
   },
   "file_extension": ".py",
   "mimetype": "text/x-python",
   "name": "python",
   "nbconvert_exporter": "python",
   "pygments_lexer": "ipython2",
   "version": "2.7.11"
  }
 },
 "nbformat": 4,
 "nbformat_minor": 0
}
