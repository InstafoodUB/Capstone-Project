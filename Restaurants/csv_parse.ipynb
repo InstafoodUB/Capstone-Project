{
 "cells": [
  {
   "cell_type": "markdown",
   "metadata": {},
   "source": [
    "# CSV parse\n",
    "\n",
    "Parseem el csv que conté les dades de tots els restaurants sel·leccionats de l'Eixample."
   ]
  },
  {
   "cell_type": "code",
   "execution_count": 1,
   "metadata": {
    "collapsed": false
   },
   "outputs": [],
   "source": [
    "import csv\n",
    "import pickle"
   ]
  },
  {
   "cell_type": "code",
   "execution_count": 2,
   "metadata": {
    "collapsed": true
   },
   "outputs": [],
   "source": [
    "def save_obj(obj, name ):\n",
    "    with open(''+ name + '.pkl', 'wb') as f:\n",
    "        pickle.dump(obj, f, pickle.HIGHEST_PROTOCOL)\n",
    "\n",
    "def load_obj(name ):\n",
    "    with open('' + name + '.pkl', 'rb') as f:\n",
    "        return pickle.load(f)\n",
    "\n",
    "def get_coordinates(string):\n",
    "    for k in range(len(string)):\n",
    "        if string[k] == ',':\n",
    "            return [float(string[:k]), float(string[k+1:])]"
   ]
  },
  {
   "cell_type": "code",
   "execution_count": 3,
   "metadata": {
    "collapsed": true
   },
   "outputs": [],
   "source": [
    "input_file = input_file = csv.DictReader(open(\"restaurantes_eixample.csv\"),delimiter=';')\n",
    "rest_list = []\n",
    "for row in input_file:\n",
    "    row['COORDENADAS'] = get_coordinates(row['COORDENADAS'])\n",
    "    rest_list.append(row)\n",
    "        \n",
    "save_obj(rest_list,'rest_list')"
   ]
  },
  {
   "cell_type": "code",
   "execution_count": 8,
   "metadata": {
    "collapsed": false
   },
   "outputs": [
    {
     "name": "stdout",
     "output_type": "stream",
     "text": [
      "{'TAP': 100, 'PAE': 14, 'RAP': 9, 'DIE': 9, 'CAS': 48, 'CAR': 27, 'ASI': 15, 'ITA': 19}\n"
     ]
    }
   ],
   "source": [
    "cont = {'TAP':0,'CAR':0,'CAS':0,'RAP':0,'ITA':0,'ASI':0,'DIE':0,'PAE':0}\n",
    "for item in rest_list:\n",
    "    if item['ESPECIALIDAD'] == 'Carnes a la brasa':\n",
    "        cont['CAR'] = cont['CAR'] + 1\n",
    "    if item['ESPECIALIDAD'] == 'Cocina italiana':\n",
    "        cont['ITA'] = cont['ITA'] + 1\n",
    "    if item['ESPECIALIDAD'] == 'Tapas, pintxos y platillos':\n",
    "        cont['TAP'] = cont['TAP'] + 1\n",
    "    if item['ESPECIALIDAD'] == 'Cocina casera':\n",
    "        cont['CAS'] = cont['CAS'] + 1\n",
    "    if item['ESPECIALIDAD'] == 'Cocina dietetica, naturista, vegetariana y biologica':\n",
    "        cont['DIE'] = cont['DIE'] + 1\n",
    "    if item['ESPECIALIDAD'] == 'Paellas y arroces':\n",
    "        cont['PAE'] = cont['PAE'] + 1\n",
    "    if item['ESPECIALIDAD'] == 'Cocina asiatica':\n",
    "        cont['ASI'] = cont['ASI'] + 1\n",
    "    if item['ESPECIALIDAD'] == 'Cocina rapida':\n",
    "        cont['RAP'] = cont['RAP'] + 1\n",
    "print cont"
   ]
  },
  {
   "cell_type": "code",
   "execution_count": null,
   "metadata": {
    "collapsed": false
   },
   "outputs": [],
   "source": [
    "# esto no hace falta al final pero yo lo dejaría. \n",
    "# es por si el csv te viene sucio (con restaurantes sin loc_code, etc.)\n",
    "# pero al final lo que hicimos fue limpiar el csv\n",
    "\n",
    "red_rest_list = []\n",
    "for item in rest_list:\n",
    "    if item['LOCATION_CODE'] != '0':\n",
    "        red_rest_list.append(item)\n",
    "\n",
    "indices_list = []\n",
    "final_rest_list = []\n",
    "for item in red_rest_list:\n",
    "    ad = item['CALLE']\n",
    "    nom = item['NOMBRE']\n",
    "    indices = []\n",
    "    for item2 in red_rest_list:\n",
    "        if ad == item2['CALLE'] and nom == item2['NOMBRE']:\n",
    "            indices.append(red_rest_list.index(item2))\n",
    "    indices = sorted(indices)\n",
    "    if indices not in indices_list:\n",
    "        indices_list.append(indices)\n",
    "\n",
    "for indices in indices_list:\n",
    "    if len(indices) == 1:\n",
    "        item_to_append = red_rest_list[indices[0]]\n",
    "        item_to_append['LOCATION_CODE'] = [item_to_append['LOCATION_CODE']]\n",
    "        final_rest_list.append(item_to_append)\n",
    "    else:\n",
    "        main_index = min(indices)\n",
    "        item_to_append = red_rest_list[main_index]\n",
    "        item_to_append['LOCATION_CODE'] = [item_to_append['LOCATION_CODE']]\n",
    "        indices.remove(main_index)\n",
    "        for i in indices:\n",
    "            if red_rest_list[i]['LOCATION_CODE'] not in item_to_append['LOCATION_CODE']:\n",
    "                item_to_append['LOCATION_CODE'].append(red_rest_list[i]['LOCATION_CODE'])\n",
    "        final_rest_list.append(item_to_append) "
   ]
  },
  {
   "cell_type": "code",
   "execution_count": null,
   "metadata": {
    "collapsed": true
   },
   "outputs": [],
   "source": []
  }
 ],
 "metadata": {
  "kernelspec": {
   "display_name": "Python 2",
   "language": "python",
   "name": "python2"
  },
  "language_info": {
   "codemirror_mode": {
    "name": "ipython",
    "version": 2
   },
   "file_extension": ".py",
   "mimetype": "text/x-python",
   "name": "python",
   "nbconvert_exporter": "python",
   "pygments_lexer": "ipython2",
   "version": "2.7.12"
  }
 },
 "nbformat": 4,
 "nbformat_minor": 0
}
