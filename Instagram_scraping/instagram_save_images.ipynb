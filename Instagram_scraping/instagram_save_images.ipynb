{
 "cells": [
  {
   "cell_type": "markdown",
   "metadata": {},
   "source": [
    "# Descàrrega d'imatges d'Instagram\n",
    "\n",
    "A partir del diccionari d'imatges de restaurants generat a partir de l'Scraping d'Instagram, descarreguem les imatges en carpetes segons l'estil de cuina del restaurant."
   ]
  },
  {
   "cell_type": "code",
   "execution_count": 2,
   "metadata": {
    "collapsed": true
   },
   "outputs": [],
   "source": [
    "import re\n",
    "import pickle\n",
    "import urllib"
   ]
  },
  {
   "cell_type": "code",
   "execution_count": 3,
   "metadata": {
    "collapsed": true
   },
   "outputs": [],
   "source": [
    "def save_obj(obj, name ):\n",
    "    with open(''+ name + '.pkl', 'wb') as f:\n",
    "        pickle.dump(obj, f, pickle.HIGHEST_PROTOCOL)\n",
    "\n",
    "def load_obj(name ):\n",
    "    with open('' + name + '.pkl', 'rb') as f:\n",
    "        return pickle.load(f)"
   ]
  },
  {
   "cell_type": "code",
   "execution_count": 4,
   "metadata": {
    "collapsed": true
   },
   "outputs": [],
   "source": [
    "rest_list = load_obj('rest_list.pkl')"
   ]
  },
  {
   "cell_type": "code",
   "execution_count": null,
   "metadata": {
    "collapsed": false
   },
   "outputs": [],
   "source": [
    "#exemple de descarrega pels restaurants especialitzats en 'Tapas, pintxos y platillos'\n",
    "path = '/images_insta/Tapas/640x640/'\n",
    "\n",
    "print('casera largest over')\n",
    "\n",
    "image = urllib.URLopener()\n",
    "for item in rest_list:\n",
    "    if item['ESPECIALIDAD'] == 'Tapas, pintxos y platillos':\n",
    "        try:\n",
    "            caca = item['IMAGES']\n",
    "            for img in item['IMAGES']:\n",
    "                url = img['url']\n",
    "                save_name = re.findall('\\w+_n.jpg',img['url'])[0]\n",
    "                try:\n",
    "                    image.retrieve(url, path + save_name)\n",
    "                except IOError:\n",
    "                    None\n",
    "        except KeyError:\n",
    "            None\n",
    "            \n",
    "            \n",
    "path = '/images_insta/Tapas/largest'\n",
    "\n",
    "print('tapas 640 over')\n",
    "\n",
    "image = urllib.URLopener()\n",
    "for item in rest_list:\n",
    "    if item['ESPECIALIDAD'] == 'Tapas, pintxos y platillos':\n",
    "        try:\n",
    "            caca = item['IMAGES']\n",
    "            for img in item['IMAGES']:\n",
    "                url = img['url'].replace('640x640/','')#we want the largest one\n",
    "                save_name = re.findall('\\w+_n.jpg',img['url'])[0]\n",
    "                try:\n",
    "                    image.retrieve(url, path + save_name)\n",
    "                except IOError:\n",
    "                    None\n",
    "        except KeyError:\n",
    "            None"
   ]
  },
  {
   "cell_type": "code",
   "execution_count": null,
   "metadata": {
    "collapsed": true
   },
   "outputs": [],
   "source": []
  }
 ],
 "metadata": {
  "kernelspec": {
   "display_name": "Python 2",
   "language": "python",
   "name": "python2"
  },
  "language_info": {
   "codemirror_mode": {
    "name": "ipython",
    "version": 2
   },
   "file_extension": ".py",
   "mimetype": "text/x-python",
   "name": "python",
   "nbconvert_exporter": "python",
   "pygments_lexer": "ipython2",
   "version": "2.7.12"
  }
 },
 "nbformat": 4,
 "nbformat_minor": 0
}
