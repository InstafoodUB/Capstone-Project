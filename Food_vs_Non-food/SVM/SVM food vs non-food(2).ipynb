{
 "cells": [
  {
   "cell_type": "markdown",
   "metadata": {
    "collapsed": true
   },
   "source": [
    "<small><i>Using code from the Notebook Machine Learning II of [Oriol Pujol Vila](http://www.maia.ub.es/~oriol)</i></small>"
   ]
  },
  {
   "cell_type": "markdown",
   "metadata": {},
   "source": [
    "# SVM Food vs. Non-food\n",
    "\n",
    "Clasificador Food - Non-food a través d'una SVM amb kernel sigmoidea amb paràmetre $\\gamma = 10^{-5}$. \n",
    "\n",
    "Hem reescalat totes les imatges a $100x100$ i emprat HOG com a extractor de característiques.\n",
    "\n",
    "Base de dades per entrenar: \n",
    "http://iplab.dmi.unict.it/madima2015/"
   ]
  },
  {
   "cell_type": "code",
   "execution_count": 1,
   "metadata": {
    "collapsed": true
   },
   "outputs": [],
   "source": [
    "#util and imports\n",
    "%matplotlib inline\n",
    "\n",
    "import os\n",
    "import fnmatch\n",
    "from cStringIO import StringIO\n",
    "import numpy as np\n",
    "import PIL.Image\n",
    "import IPython.display\n",
    "import shutil\n",
    "import matplotlib.pyplot as plt\n",
    "import numpy as np\n",
    "from sklearn import cross_validation\n",
    "from sklearn.preprocessing import StandardScaler\n",
    "from sklearn import svm\n",
    "from sklearn import metrics\n",
    "from skimage import io\n",
    "from sklearn import cross_validation\n",
    "from sklearn.preprocessing import StandardScaler\n",
    "import cv2"
   ]
  },
  {
   "cell_type": "code",
   "execution_count": 2,
   "metadata": {
    "collapsed": false
   },
   "outputs": [],
   "source": [
    "def list_all_files(directory, extensions=None):\n",
    "    for root, dirnames, filenames in os.walk(directory):\n",
    "        for filename in filenames:\n",
    "            base, ext = os.path.splitext(filename)\n",
    "            joined = os.path.join(root, filename)\n",
    "            if extensions is None or ext.lower() in extensions:\n",
    "                yield joined"
   ]
  },
  {
   "cell_type": "code",
   "execution_count": 3,
   "metadata": {
    "collapsed": false
   },
   "outputs": [
    {
     "name": "stdout",
     "output_type": "stream",
     "text": [
      "loaded 8387 food\n",
      "loaded 8005 non-food\n"
     ]
    }
   ],
   "source": [
    "food = list(list_all_files('./UNICT-FlickrFood/', ['.jpg']))\n",
    "#food = [i.replace(\".jpg\",\"\") for i in list_all_files('./UNICT-FD889/', ['.jpg'])]\n",
    "print 'loaded', len(food), \"food\"\n",
    "nonfood = list(list_all_files('./UNICT-FlickrNon-Food/', ['.jpg']))\n",
    "print 'loaded', len(nonfood), \"non-food\"\n",
    "examples = [(path, 0) for path in food]+[(path, 1) for path in nonfood]"
   ]
  },
  {
   "cell_type": "code",
   "execution_count": 12,
   "metadata": {
    "collapsed": false
   },
   "outputs": [],
   "source": [
    "import cv2\n",
    "from skimage.measure import block_reduce\n",
    "from skimage.io import imread\n",
    "from skimage.feature import hog\n",
    "\n",
    "def examples_to_dataset(examples, block_size=2):\n",
    "    X = []\n",
    "    y = []\n",
    "    number = 0\n",
    "    sum_img_mean = 0\n",
    "    size = 200\n",
    "    for path, label in examples:  \n",
    "        #reescalem les imatges fins deixar-les 100x100 pixels\n",
    "        img = imread(path, as_grey=True)\n",
    "        rows = img.shape[0]\n",
    "        cols = img.shape[1]\n",
    "        center = np.array([rows/2, cols/2])     \n",
    "\n",
    "        if (rows>cols):\n",
    "            crop_size = cols/2\n",
    "            img = img[center[0]-crop_size:center[0]+crop_size,:]\n",
    "        else : \n",
    "            crop_size = rows/2 \n",
    "            img = img[:,center[1]-crop_size:center[1]+crop_size]\n",
    "\n",
    "        img = transform.resize(img, (size,size))  \n",
    "        img = block_reduce(img, block_size=(2, 2), func=np.mean)\n",
    "        \n",
    "        #extractor de caracteristiques hog del skimage\n",
    "        hog = hog(img, orientations=8, pixels_per_cell=(10, 10),\n",
    "                cells_per_block=(1, 1), visualise=False)\n",
    "        X.append(hog)\n",
    "        if(label==0):\n",
    "            y.append(0)\n",
    "        else:\n",
    "            y.append(1)\n",
    "    return np.asarray(X), np.asarray(y)"
   ]
  },
  {
   "cell_type": "code",
   "execution_count": 13,
   "metadata": {
    "collapsed": false
   },
   "outputs": [
    {
     "name": "stdout",
     "output_type": "stream",
     "text": [
      "CPU times: user 4min 20s, sys: 9.84 s, total: 4min 30s\n",
      "Wall time: 4min 34s\n"
     ]
    }
   ],
   "source": [
    "%time X, Y = examples_to_dataset(examples)\n",
    "X = np.asarray(X,dtype=np.float32)\n",
    "Y = np.asarray(Y,dtype=np.int32)"
   ]
  },
  {
   "cell_type": "code",
   "execution_count": 14,
   "metadata": {
    "collapsed": false
   },
   "outputs": [
    {
     "name": "stderr",
     "output_type": "stream",
     "text": [
      "/Users/GBG141/anaconda/lib/python2.7/site-packages/IPython/core/formatters.py:90: DeprecationWarning: DisplayFormatter._ipython_display_formatter_default is deprecated: use @default decorator instead.\n",
      "  def _ipython_display_formatter_default(self):\n",
      "/Users/GBG141/anaconda/lib/python2.7/site-packages/IPython/core/formatters.py:667: DeprecationWarning: PlainTextFormatter._singleton_printers_default is deprecated: use @default decorator instead.\n",
      "  def _singleton_printers_default(self):\n"
     ]
    },
    {
     "data": {
      "text/plain": [
       "(16392, 800)"
      ]
     },
     "execution_count": 14,
     "metadata": {},
     "output_type": "execute_result"
    }
   ],
   "source": [
    "X.shape"
   ]
  },
  {
   "cell_type": "code",
   "execution_count": 15,
   "metadata": {
    "collapsed": false
   },
   "outputs": [
    {
     "name": "stdout",
     "output_type": "stream",
     "text": [
      "0.815187557182\n",
      "0.813357731016\n",
      "0.817876754118\n",
      "0.828248932276\n",
      "0.825198291641\n",
      "Mean accuracy: 0.819973853247\n"
     ]
    }
   ],
   "source": [
    "#NO SNOOPING\n",
    "import numpy as np\n",
    "from sklearn import cross_validation\n",
    "from sklearn.preprocessing import StandardScaler\n",
    "from sklearn import svm\n",
    "from sklearn import metrics\n",
    "\n",
    "kf=cross_validation.KFold(n=Y.shape[0], n_folds=5,  shuffle=True)\n",
    "\n",
    "acc = np.zeros((5,))\n",
    "i=0\n",
    "#We will build the predicted y from the partial predictions on the test of each of the folds\n",
    "yhat = Y.copy()\n",
    "for train_index, test_index in kf:\n",
    "    X_train, X_test = X[train_index], X[test_index]\n",
    "    Y_train, Y_test = Y[train_index], Y[test_index]\n",
    "    scaler = StandardScaler()\n",
    "    X_train = scaler.fit_transform(X_train)\n",
    "    #Standard parameters\n",
    "    clf = svm.SVC(kernel='sigmoid', gamma = 0.00001, C = 1)\n",
    "    clf.fit(X_train,Y_train.ravel())\n",
    "    X_test = scaler.transform(X_test)\n",
    "    yhat[test_index] = clf.predict(X_test)\n",
    "    acc[i] = metrics.accuracy_score(yhat[test_index], Y_test)\n",
    "    print acc[i]\n",
    "    i=i+1\n",
    "print 'Mean accuracy: '+ str(np.mean(acc))"
   ]
  },
  {
   "cell_type": "code",
   "execution_count": 17,
   "metadata": {
    "collapsed": false
   },
   "outputs": [
    {
     "name": "stderr",
     "output_type": "stream",
     "text": [
      "/Users/GBG141/anaconda/lib/python2.7/site-packages/numpy/core/fromnumeric.py:2652: VisibleDeprecationWarning: `rank` is deprecated; use the `ndim` attribute or function instead. To find the rank of a matrix see `numpy.linalg.matrix_rank`.\n",
      "  VisibleDeprecationWarning)\n"
     ]
    },
    {
     "data": {
      "image/png": "[encoded data removed]",
      "text/plain": [
       "<matplotlib.figure.Figure at 0x108abd110>"
      ]
     },
     "metadata": {},
     "output_type": "display_data"
    },
    {
     "name": "stdout",
     "output_type": "stream",
     "text": [
      "             precision    recall  f1-score   support\n",
      "\n",
      "          0       0.79      0.89      0.84      8387\n",
      "          1       0.87      0.75      0.80      8005\n",
      "\n",
      "avg / total       0.83      0.82      0.82     16392\n",
      "\n"
     ]
    }
   ],
   "source": [
    "import matplotlib.pyplot as plt\n",
    "def draw_confusion(y,yhat,labels):\n",
    "    cm = metrics.confusion_matrix(y, yhat)\n",
    "    fig = plt.figure()\n",
    "    ax = fig.add_subplot(111)\n",
    "    ax.matshow(cm)\n",
    "    plt.title('Confusion matrix',size=20)\n",
    "    ax.set_xticklabels([''] + labels, size=20)\n",
    "    ax.set_yticklabels([''] + labels, size=20)\n",
    "    plt.ylabel('Predicted',size=20)\n",
    "    plt.xlabel('True',size=20)\n",
    "    for i in xrange(2):\n",
    "        for j in xrange(2):\n",
    "            ax.text(i, j, cm[i,j], va='center', ha='center',color='white',size=20)\n",
    "    fig.set_size_inches(7,7)\n",
    "    plt.show()\n",
    "\n",
    "draw_confusion(Y,yhat,['food', 'non-food'])\n",
    "print metrics.classification_report(Y,yhat)"
   ]
  },
  {
   "cell_type": "code",
   "execution_count": null,
   "metadata": {
    "collapsed": true
   },
   "outputs": [],
   "source": []
  }
 ],
 "metadata": {
  "kernelspec": {
   "display_name": "Python 2",
   "language": "python",
   "name": "python2"
  },
  "language_info": {
   "codemirror_mode": {
    "name": "ipython",
    "version": 2
   },
   "file_extension": ".py",
   "mimetype": "text/x-python",
   "name": "python",
   "nbconvert_exporter": "python",
   "pygments_lexer": "ipython2",
   "version": "2.7.11"
  }
 },
 "nbformat": 4,
 "nbformat_minor": 0
}
