{
 "cells": [
  {
   "cell_type": "code",
   "execution_count": 1,
   "metadata": {
    "collapsed": false
   },
   "outputs": [],
   "source": [
    "import re\n",
    "import time\n",
    "import pickle\n",
    "import urllib2\n",
    "import numpy as np\n",
    "from urllib2 import URLError\n",
    "from bs4 import BeautifulSoup\n",
    "import selenium.webdriver as webdriver\n",
    "from selenium.common.exceptions import NoSuchElementException"
   ]
  },
  {
   "cell_type": "code",
   "execution_count": 2,
   "metadata": {
    "collapsed": true
   },
   "outputs": [],
   "source": [
    "# load and save lists and dictionaries with pickle\n",
    "def save_obj(obj, name ):\n",
    "    with open(''+ name + '.pkl', 'wb') as f:\n",
    "        pickle.dump(obj, f, pickle.HIGHEST_PROTOCOL)\n",
    "\n",
    "def load_obj(name ):\n",
    "    with open('' + name + '.pkl', 'rb') as f:\n",
    "        return pickle.load(f)"
   ]
  },
  {
   "cell_type": "code",
   "execution_count": 3,
   "metadata": {
    "collapsed": true
   },
   "outputs": [],
   "source": [
    "def restaurant_insta_scraping_location(url):\n",
    "    browser.get(url)\n",
    "    try:\n",
    "        browser.find_element_by_class_name('_oidfu').click()\n",
    "        more_than_21 = 1\n",
    "    except NoSuchElementException:\n",
    "        more_than_21 = 0\n",
    "    if more_than_21 == 1:\n",
    "        for i in range(20):\n",
    "            time.sleep(1.5)\n",
    "            browser.execute_script(\"window.scrollTo(0,document.body.scrollHeight);\") #Scroll down \n",
    "        time.sleep(1)\n",
    "        html=browser.page_source\n",
    "        try:\n",
    "            pictable = browser.find_element_by_xpath('/html/body/span/section/main/article/div[2]/div[1]')\n",
    "            is_there_pictable = 1\n",
    "        except NoSuchElementException:\n",
    "            is_there_pictable = 0\n",
    "        if is_there_pictable == 1:\n",
    "            rest_info = []\n",
    "            for element in pictable.find_elements_by_css_selector(\"a[class='_8mlbc _vbtk2 _t5r8b']\"):\n",
    "                img = element.find_element_by_class_name('_icyx7')\n",
    "                text = img.get_attribute('alt')\n",
    "                tags = [t.replace(\"#\",\"\") for t in re.findall(r'#\\w+', text)]\n",
    "                #dic['url'] = img.get_attribute('src').encode('ascii')\n",
    "                rest_info.append(tags)\n",
    "        else:\n",
    "            rest_info = 0\n",
    "            \n",
    "    else: \n",
    "        html=browser.page_source\n",
    "        try:\n",
    "            pictable = browser.find_element_by_xpath('/html/body/span/section/main/article/div[2]/div[1]')\n",
    "            is_there_pictable = 1\n",
    "        except:\n",
    "            is_there_pictable = 0\n",
    "        if is_there_pictable == 1:\n",
    "            rest_info = []\n",
    "            for element in pictable.find_elements_by_css_selector(\"a[class='_8mlbc _vbtk2 _t5r8b']\"):\n",
    "                img = element.find_element_by_class_name('_icyx7')\n",
    "                text = img.get_attribute('alt')\n",
    "                tags = [t.replace(\"#\",\"\") for t in re.findall(r'#\\w+', text)]\n",
    "                rest_info.append(tags)\n",
    "        else:\n",
    "            rest_info = 0\n",
    "    return rest_info\n",
    "\n",
    "def listHashtags(string): \n",
    "    hashtaglist = []\n",
    "    while string.find('#',0) != -1:\n",
    "        m = re.search('(?<=#)\\w+', string)\n",
    "        string = string.replace('#'+m.group(0),'')\n",
    "        hashtaglist.append(m.group(0))\n",
    "    hashtaglist = [item.lower() for item in hashtaglist]\n",
    "    return hashtaglist\n",
    "\n",
    "def image_insta_scraping(url):\n",
    "    try:\n",
    "        source = urllib2.urlopen(url)\n",
    "        htmlcode = source.read()\n",
    "        start = htmlcode.find('\"caption\":') + 12\n",
    "        end = htmlcode.find('\",',start)\n",
    "        hash_list = listHashtags(htmlcode[start:end])\n",
    "    except URLError:\n",
    "        hash_list = 0\n",
    "    return hash_list\n",
    "\n",
    "def get_freq_sample(tags,dic):\n",
    "    N = len(dic)\n",
    "    freq_sample = [0]*N\n",
    "    for tag in tags:\n",
    "        try:\n",
    "            freq_sample[dic.index(str(tag.lower()))] = 1\n",
    "        except ValueError:\n",
    "            None\n",
    "    return freq_sample \n",
    "\n",
    "def two_point_distance(point1,point2):\n",
    "    point1 = np.array(point1)\n",
    "    point2 = np.array(point2)\n",
    "    if len(point1.shape) != 1 or len(point2.shape) != 1 or point2.shape != point1.shape:\n",
    "        print '(two_point_distance) ERROR: enter two valid points '\n",
    "        return 'ERROR'\n",
    "    resta = point1 - point2\n",
    "    return np.sqrt(sum([el**2 for el in resta]))"
   ]
  },
  {
   "cell_type": "code",
   "execution_count": 4,
   "metadata": {
    "collapsed": false
   },
   "outputs": [],
   "source": [
    "def tag_recommender(url,clf,dic,known_rests_probs_mean):\n",
    "    if 'locations' in url:\n",
    "        tags_per_image = restaurant_insta_scraping_location(url)\n",
    "        if tags_per_image == 0:\n",
    "            return 'ERROR: non-valid URL'\n",
    "        freq_samples_per_image = [get_freq_sample(tags,dic) for tags in tags_per_image]\n",
    "        old_freq_samples_per_image = freq_samples_per_image\n",
    "        freq_samples_per_image = [item for item in old_freq_samples_per_image if sum(item) != 0]\n",
    "        if len(freq_samples_per_image) == 0:\n",
    "            return 'ERROR: I cannot recommend this restaurant because I do not understand the tags of its images.'\n",
    "        pred_probs_per_image = [clf.predict_proba([freq_samp])[0] for freq_samp in freq_samples_per_image]\n",
    "        pred_probs_mean = (sum([np.array(pred_probs) for pred_probs in pred_probs_per_image])/len(pred_probs_per_image)).tolist()\n",
    "        distances = [two_point_distance(rest[3],pred_probs_mean) for rest in known_rests_probs_mean]\n",
    "        return known_rests_probs_mean[distances.index(min(distances))][2]\n",
    "    else:\n",
    "        if 'instagram.com' in url:\n",
    "            image_tags = image_insta_scraping(url)\n",
    "            if image_tags == 0:\n",
    "                return 'ERROR: non-valid URL'\n",
    "            freq_samp = get_freq_sample(image_tags,dic)\n",
    "            if sum(freq_samp) == 0:\n",
    "                return 'ERROR: I cannot recommend this image because I do not understand its tags.'\n",
    "            else:\n",
    "                pred_rest_type = clf.predict([freq_samp])\n",
    "                pred_probs = clf.predict_proba([freq_samp])[0].tolist()\n",
    "                distances = [two_point_distance(rest[3],pred_probs) for rest in known_rests_probs_mean]\n",
    "                return known_rests_probs_mean[distances.index(min(distances))][2]\n",
    "        else:\n",
    "            print 'ERROR: non-valid URL'"
   ]
  },
  {
   "cell_type": "code",
   "execution_count": 5,
   "metadata": {
    "collapsed": true
   },
   "outputs": [],
   "source": [
    "max_n_of_images = 1000"
   ]
  },
  {
   "cell_type": "code",
   "execution_count": 6,
   "metadata": {
    "collapsed": false
   },
   "outputs": [],
   "source": [
    "rest_list = load_obj('rest_list')\n",
    "clf = load_obj('clf_' + str(max_n_of_images))\n",
    "dic = load_obj('dic_' + str(max_n_of_images))\n",
    "known_rests_probs_mean = load_obj('known_rests_probs_mean_' + str(max_n_of_images))"
   ]
  },
  {
   "cell_type": "code",
   "execution_count": 154,
   "metadata": {
    "collapsed": false
   },
   "outputs": [
    {
     "name": "stdout",
     "output_type": "stream",
     "text": [
      "You should try: Yoshino\n",
      "('Yoshino', [41.385387, 2.151273], 'Cocina asiatica')\n"
     ]
    }
   ],
   "source": [
    "# the recommender accepts either instagram image urls or instagram location urls:\n",
    "#url = 'https://www.instagram.com/explore/locations/238741098/' # LA TAGLIATELLA (PASTA&PIZZA)\n",
    "url = 'https://www.instagram.com/explore/locations/584346/' #YOSHINO (SUSHI)\n",
    "#url = 'https://www.instagram.com/explore/locations/375802654/' #POCAS FOTOS\n",
    "#url = 'https://www.instagram.com/p/BHqpEI7DfaG/' # KFC (FASTFOOD)\n",
    "#url = 'https://www.instagram.com/explore/locations/269860565/'\n",
    "#url = 'https://www.instagram.com/p/BHxFR58jPlh/?taken-at=269860565'\n",
    "#url = 'https://www.instagram.com/explore/locations/215383179/'\n",
    "#url = 'https://www.instagram.com/explore/locations/252007828/'\n",
    "#url = 'https://www.instagram.com/explore/locations/234837112/'\n",
    "#url = 'https://www.instagram.com/explore/locations/265379490/'\n",
    "\n",
    "#path_to_chromedriver = '/Users/AlbertIribarne/Dropbox/UB/bigdata/instagram/chromedriver'\n",
    "path_to_chromedriver = '/Users/martirossellogomez/Downloads/chromedriver'\n",
    "browser = webdriver.Chrome(path_to_chromedriver)\n",
    "\n",
    "recommendation = tag_recommender(url,clf,dic,known_rests_probs_mean)\n",
    "print 'You should try: ' + recommendation\n",
    "\n",
    "# print more info than the name\n",
    "for rest in rest_list:\n",
    "    if rest['NOMBRE'] == recommendation:\n",
    "        print (rest['NOMBRE'],rest['COORDENADAS'],rest['ESPECIALIDAD'])\n",
    "\n",
    "browser.quit()"
   ]
  },
  {
   "cell_type": "code",
   "execution_count": null,
   "metadata": {
    "collapsed": false
   },
   "outputs": [],
   "source": []
  },
  {
   "cell_type": "code",
   "execution_count": null,
   "metadata": {
    "collapsed": false
   },
   "outputs": [],
   "source": []
  },
  {
   "cell_type": "code",
   "execution_count": null,
   "metadata": {
    "collapsed": false
   },
   "outputs": [],
   "source": []
  },
  {
   "cell_type": "code",
   "execution_count": 157,
   "metadata": {
    "collapsed": true
   },
   "outputs": [],
   "source": [
    "josep = []"
   ]
  },
  {
   "cell_type": "code",
   "execution_count": 158,
   "metadata": {
    "collapsed": false
   },
   "outputs": [],
   "source": [
    "for rest in rest_list:\n",
    "    if rest['NOMBRE'] == recommendation:\n",
    "        josep.append(rest['NOMBRE'])\n",
    "        josep.append(rest['COORDENADAS'][0])\n",
    "        josep.append(rest['COORDENADAS'][1])        \n",
    "        josep.append(rest['ESPECIALIDAD'])\n",
    "        josep.append(rest['CALLE'])\n",
    "        try:\n",
    "            for i in xrange(0,min(9,len(rest['IMAGES']))):\n",
    "                josep.append(rest['IMAGES'][i]['url'])\n",
    "        except KeyError:\n",
    "            None"
   ]
  },
  {
   "cell_type": "code",
   "execution_count": 159,
   "metadata": {
    "collapsed": false
   },
   "outputs": [
    {
     "name": "stdout",
     "output_type": "stream",
     "text": [
      "['Yoshino', 41.385387, 2.151273, 'Cocina asiatica', 'C de Mallorca, 90', 'https://instagram.fmad3-1.fna.fbcdn.net/t51.2885-15/s640x640/sh0.08/e35/13642857_567772963395396_946165459_n.jpg?ig_cache_key=MTI5MTMzOTE3NTY2NDUxODczOA%3D%3D.2', 'https://instagram.fmad3-1.fna.fbcdn.net/t51.2885-15/s640x640/sh0.08/e35/c135.0.810.810/13643600_1553001935007158_73898047_n.jpg?ig_cache_key=MTI5MDE0MjAyNjkxMzgxNDQ4Ng%3D%3D.2.c', 'https://instagram.fmad3-1.fna.fbcdn.net/t51.2885-15/s640x640/sh0.08/e35/13551545_530887097106554_1315725664_n.jpg?ig_cache_key=MTI4OTg3NDcwNTkzNTU0NzY4OA%3D%3D.2', 'https://instagram.fmad3-1.fna.fbcdn.net/t51.2885-15/s640x640/sh0.08/e35/c1.0.960.960/13556923_161645190920590_1879965918_n.jpg?ig_cache_key=MTI4OTM3NjkyMTk5NDE2MjM2Nw%3D%3D.2.c', 'https://instagram.fmad3-1.fna.fbcdn.net/t51.2885-15/e15/c157.0.405.405/13584143_1147240788652100_621154308_n.jpg?ig_cache_key=MTI4NzIwNzYzMjMyNzEyMjcwMA%3D%3D.2.c', 'https://instagram.fmad3-1.fna.fbcdn.net/t51.2885-15/s640x640/sh0.08/e35/13584056_1632239860426316_703264735_n.jpg?ig_cache_key=MTI4Njk3NTU2NTEyNzk3MjM1MA%3D%3D.2', 'https://instagram.fmad3-1.fna.fbcdn.net/t51.2885-15/s640x640/sh0.08/e35/13534247_1136134719741447_95029751_n.jpg?ig_cache_key=MTI4NjIwNDk2NjYxNzE2OTAyMA%3D%3D.2', 'https://instagram.fmad3-1.fna.fbcdn.net/t51.2885-15/e35/13557231_1701930426720488_1623135467_n.jpg?ig_cache_key=MTI4Mjg1NTU1NTUyMTk4MzcyNA%3D%3D.2', 'https://instagram.fmad3-1.fna.fbcdn.net/t51.2885-15/s640x640/sh0.08/e35/13562136_482827605254343_1322015426_n.jpg?ig_cache_key=MTI4MTg5NTY4MTM0MjM1OTMxMA%3D%3D.2']\n"
     ]
    }
   ],
   "source": [
    "print josep"
   ]
  },
  {
   "cell_type": "code",
   "execution_count": 31,
   "metadata": {
    "collapsed": false
   },
   "outputs": [],
   "source": []
  },
  {
   "cell_type": "code",
   "execution_count": null,
   "metadata": {
    "collapsed": false
   },
   "outputs": [],
   "source": []
  },
  {
   "cell_type": "code",
   "execution_count": null,
   "metadata": {
    "collapsed": false
   },
   "outputs": [],
   "source": []
  },
  {
   "cell_type": "code",
   "execution_count": null,
   "metadata": {
    "collapsed": true
   },
   "outputs": [],
   "source": []
  },
  {
   "cell_type": "code",
   "execution_count": 160,
   "metadata": {
    "collapsed": false
   },
   "outputs": [
    {
     "name": "stdout",
     "output_type": "stream",
     "text": [
      "14\n"
     ]
    }
   ],
   "source": [
    "print(len(josep))"
   ]
  },
  {
   "cell_type": "code",
   "execution_count": 161,
   "metadata": {
    "collapsed": false
   },
   "outputs": [],
   "source": [
    "import unidecode\n",
    "from cartodb import CartoDBAPIKey, CartoDBException\n",
    "\n",
    "josep[4].decode('unicode_escape').encode('ascii','ignore')\n",
    "\n",
    "API_KEY ='2a85c1aab5f7c24a7306ee2acd6fadbcb0e97562'\n",
    "cartodb_domain = 'instafoodub'\n",
    "cl = CartoDBAPIKey(API_KEY, cartodb_domain)\n",
    "if(len(josep)>=14):\n",
    "    query = \"UPDATE recommended SET nom = '%s', latitud = %s, longitud = %s, \\\n",
    "    tipus_cuina = '%s', carrer = '%s', image_1 = '%s', \\\n",
    "    image_2 = '%s', image_3 = '%s', image_4 = '%s', image_5 = '%s', \\\n",
    "    image_6 = '%s', image_7 = '%s', image_8 = '%s', image_9 = '%s' \\\n",
    "    \" % (josep[0], josep[1], josep[2], josep[3], josep[0], \\\n",
    "    josep[5], josep[6], josep[7], josep[8], josep[9], \\\n",
    "    josep[10], josep[11], josep[12], josep[13])\n",
    "else:\n",
    "    while len(josep) < 14:\n",
    "        josep.append('http://interbankcasapropia.pe/portalInmobiliario-theme/images/ibk/Imagen_no_disponible.jpg')\n",
    "    query = \"UPDATE recommended SET nom = '%s', latitud = %s, longitud = %s, \\\n",
    "    tipus_cuina = '%s', carrer = '%s', image_1 = '%s', \\\n",
    "    image_2 = '%s', image_3 = '%s', image_4 = '%s', image_5 = '%s', \\\n",
    "    image_6 = '%s', image_7 = '%s', image_8 = '%s', image_9 = '%s' \\\n",
    "    \" % (josep[0].replace(\"'\",''), josep[1], josep[2], josep[3], josep[4].replace(\"'\",''), \\\n",
    "    josep[5], josep[6], josep[7], josep[8], josep[9], \\\n",
    "    josep[10], josep[11], josep[12], josep[13])\n",
    "try:\n",
    "    cl.sql(query)\n",
    "except CartoDBException as e:\n",
    "    print(\"some error ocurred\", e)"
   ]
  },
  {
   "cell_type": "code",
   "execution_count": null,
   "metadata": {
    "collapsed": false
   },
   "outputs": [],
   "source": []
  },
  {
   "cell_type": "code",
   "execution_count": 162,
   "metadata": {
    "collapsed": false
   },
   "outputs": [],
   "source": [
    "try:\n",
    "    cl.sql(\"UPDATE recommended SET the_geom = cdb_latlng (latitud , longitud) \")\n",
    "except CartoDBException as e:\n",
    "    print(\"some error ocurred\", e)"
   ]
  },
  {
   "cell_type": "code",
   "execution_count": 165,
   "metadata": {
    "collapsed": false
   },
   "outputs": [
    {
     "data": {
      "text/html": [
       "<iframe width=\"100%\" height=\"520\" frameborder=\"0\" src=\"https://instafoodub.carto.com/viz/3d70bfac-4883-11e6-a172-0e233c30368f/embed_map\" allowfullscreen webkitallowfullscreen mozallowfullscreen oallowfullscreen msallowfullscreen></iframe>"
      ],
      "text/plain": [
       "<IPython.core.display.HTML object>"
      ]
     },
     "execution_count": 165,
     "metadata": {},
     "output_type": "execute_result"
    }
   ],
   "source": [
    "from IPython.core.display import HTML\n",
    "HTML('<iframe width=\"100%\" height=\"520\" frameborder=\"0\" src=\"https://instafoodub.carto.com/viz/3d70bfac-4883-11e6-a172-0e233c30368f/embed_map\" allowfullscreen webkitallowfullscreen mozallowfullscreen oallowfullscreen msallowfullscreen></iframe>')"
   ]
  },
  {
   "cell_type": "code",
   "execution_count": 153,
   "metadata": {
    "collapsed": true
   },
   "outputs": [],
   "source": [
    "save_obj(rest_list,'rest_list')"
   ]
  },
  {
   "cell_type": "code",
   "execution_count": null,
   "metadata": {
    "collapsed": true
   },
   "outputs": [],
   "source": []
  }
 ],
 "metadata": {
  "kernelspec": {
   "display_name": "Python 2",
   "language": "python",
   "name": "python2"
  },
  "language_info": {
   "codemirror_mode": {
    "name": "ipython",
    "version": 2
   },
   "file_extension": ".py",
   "mimetype": "text/x-python",
   "name": "python",
   "nbconvert_exporter": "python",
   "pygments_lexer": "ipython2",
   "version": "2.7.12"
  }
 },
 "nbformat": 4,
 "nbformat_minor": 0
}
