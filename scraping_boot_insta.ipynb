{
 "cells": [
  {
   "cell_type": "code",
   "execution_count": 1,
   "metadata": {
    "collapsed": false
   },
   "outputs": [],
   "source": [
    "import cv2\n",
    "import os\n",
    "import urllib2\n",
    "import urllib\n",
    "import re\n",
    "from selenium import webdriver\n",
    "import time"
   ]
  },
  {
   "cell_type": "code",
   "execution_count": 2,
   "metadata": {
    "collapsed": false
   },
   "outputs": [],
   "source": [
    "def restaurant_insta_scraping(tag):\n",
    "    tagurl='https://www.instagram.com/explore/tags/'+tag+'/'\n",
    "    browser.get(tagurl)\n",
    "    browser.find_element_by_xpath('/html/body/span/section/main/article/div[2]/div[3]/a').click()\n",
    "    for i in range(10):\n",
    "        time.sleep(0.5)\n",
    "        browser.execute_script(\"window.scrollTo(0,document.body.scrollHeight);\") #Scroll down\n",
    "    time.sleep(1)\n",
    "    html=browser.page_source\n",
    "    pictable = browser.find_element_by_xpath('/html/body/span/section/main/article/div[2]/div[1]')\n",
    "    rest_info = []\n",
    "    for element in pictable.find_elements_by_css_selector(\"a[class='_8mlbc _vbtk2 _t5r8b']\"):\n",
    "        img = element.find_element_by_class_name('_icyx7')\n",
    "        dic = {}\n",
    "        dic['id'] = element.get_attribute('href').replace(\"https://www.instagram.com/p/\",\"\").replace('/?tagged='+tag,\"\")\n",
    "        #dic['tagsearch']= tag\n",
    "        dic['text'] = img.get_attribute('alt')\n",
    "        dic['tags'] = [t.replace(\"#\",\"\") for t in re.findall(r'#\\w+', dic['text'])]\n",
    "        dic['url'] = img.get_attribute('src').encode('ascii')\n",
    "        rest_info.append(dic)\n",
    "    return rest_info"
   ]
  },
  {
   "cell_type": "code",
   "execution_count": 3,
   "metadata": {
    "collapsed": true
   },
   "outputs": [],
   "source": [
    "browser = webdriver.Firefox() #Obrir un navegador Firefox\n",
    "tag = '7portes'\n",
    "setportes = restaurant_insta_scraping(tag)\n",
    "browser.quit()"
   ]
  },
  {
   "cell_type": "code",
   "execution_count": 4,
   "metadata": {
    "collapsed": false
   },
   "outputs": [
    {
     "name": "stdout",
     "output_type": "stream",
     "text": [
      "{'url': 'https://instagram.fmad3-1.fna.fbcdn.net/t51.2885-15/s640x640/sh0.08/e35/13391274_263156800716014_700764939_n.jpg?ig_cache_key=MTI3NDAzNTIzMzgxMzMzNzA1Mw%3D%3D.2', 'text': u\"Zaman'\\u0131n birinde Woody Allen bu masada paella yemi\\u015f \\U0001f60e \\U0001f364\\U0001f372#woodyallenstable #7portes #paella #seafood #foodporn #bestplace #barcelona #delicious #instafood #instaplace #instagram #spain #traditionalfood #travel #traveler #happiness #elclasico\", 'id': u'BGuSEuGxpPd', 'tags': [u'woodyallenstable', u'7portes', u'paella', u'seafood', u'foodporn', u'bestplace', u'barcelona', u'delicious', u'instafood', u'instaplace', u'instagram', u'spain', u'traditionalfood', u'travel', u'traveler', u'happiness', u'elclasico']}\n"
     ]
    }
   ],
   "source": [
    "print setportes[1]"
   ]
  },
  {
   "cell_type": "code",
   "execution_count": null,
   "metadata": {
    "collapsed": true
   },
   "outputs": [],
   "source": []
  },
  {
   "cell_type": "code",
   "execution_count": null,
   "metadata": {
    "collapsed": true
   },
   "outputs": [],
   "source": []
  },
  {
   "cell_type": "code",
   "execution_count": null,
   "metadata": {
    "collapsed": true
   },
   "outputs": [],
   "source": [
    "#m = len(setportes)\n",
    "#for j in range(m):\n",
    "#    urllib.urlretrieve(setportes[j]['url'],'testsetboot/prova'+str(j)+'.jpg')"
   ]
  }
 ],
 "metadata": {
  "kernelspec": {
   "display_name": "Python 2",
   "language": "python",
   "name": "python2"
  },
  "language_info": {
   "codemirror_mode": {
    "name": "ipython",
    "version": 2
   },
   "file_extension": ".py",
   "mimetype": "text/x-python",
   "name": "python",
   "nbconvert_exporter": "python",
   "pygments_lexer": "ipython2",
   "version": "2.7.11"
  }
 },
 "nbformat": 4,
 "nbformat_minor": 0
}
