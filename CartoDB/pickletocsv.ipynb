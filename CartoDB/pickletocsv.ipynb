{
 "cells": [
  {
   "cell_type": "code",
   "execution_count": 1,
   "metadata": {
    "collapsed": true
   },
   "outputs": [],
   "source": [
    "import os\n",
    "import re\n",
    "import time\n",
    "import pickle\n",
    "from bs4 import BeautifulSoup\n",
    "import selenium.webdriver as webdriver\n",
    "from selenium.common.exceptions import NoSuchElementException"
   ]
  },
  {
   "cell_type": "code",
   "execution_count": null,
   "metadata": {
    "collapsed": true
   },
   "outputs": [],
   "source": [
    "#  FUNCIONS PER GUARDAR I RECUPERAR DICCIONARIS EN FORMAT pickle (AIXÍ NO CAL TORNAR A CONSTRUIR-LO)\n",
    "\n",
    "def save_obj(obj, name ):\n",
    "    with open(''+ name + '.pkl', 'wb') as f:\n",
    "        pickle.dump(obj, f, pickle.HIGHEST_PROTOCOL)\n",
    "\n",
    "def load_obj(name ):\n",
    "    with open('' + name + '.pkl', 'rb') as f:\n",
    "        return pickle.load(f)"
   ]
  },
  {
   "cell_type": "code",
   "execution_count": null,
   "metadata": {
    "collapsed": true
   },
   "outputs": [],
   "source": [
    "#final_rest_list = pickle.load(open('/Users/martirossellogomez/Downloads/final_rest_list.pkl', 'rb'))\n",
    "final_rest_list_completa = pickle.load(open('/Users/martirossellogomez/Downloads/final_rest_list_completa.pkl', 'rb'))\n",
    "restaurants_extra = pickle.load(open('/Users/martirossellogomez/Downloads/extra_restaurants.pkl', 'rb'))"
   ]
  },
  {
   "cell_type": "code",
   "execution_count": null,
   "metadata": {
    "collapsed": true
   },
   "outputs": [],
   "source": [
    "to_write = [['COORDENADES1', 'COORDENADES2', 'CARRER', 'TIPUS CUINA', 'IMATGE1', 'IMATGE2', \\\n",
    "            'IMATGE3', 'IMATGE4', 'IMATGE5', 'IMATGE6', 'IMATGE7', 'IMATGE8', 'IMATGE9', 'NOM']]\n",
    "for rest in final_rest_list_completa:\n",
    "    try:\n",
    "        if len(rest['IMAGES'])>= 9:\n",
    "            caca = []\n",
    "            for key in dict.keys(rest):\n",
    "                if key == 'NOMBRE':\n",
    "                    caca.append(rest[key])\n",
    "                if key == 'CALLE':\n",
    "                    caca.append(rest[key])\n",
    "                if key == 'ESPECIALIDAD':\n",
    "                    caca.append(rest[key])\n",
    "                if key == 'COORDENADAS':\n",
    "                    caca.append(rest[key][0])\n",
    "                    caca.append(rest[key][1])\n",
    "                if key == 'IMAGES':\n",
    "                    for i in xrange(0,min(9,len(rest[key]))):\n",
    "                        caca.append(rest[key][i]['url'])\n",
    "            to_write.append(caca)\n",
    "    except KeyError:\n",
    "        None"
   ]
  },
  {
   "cell_type": "code",
   "execution_count": null,
   "metadata": {
    "collapsed": true
   },
   "outputs": [],
   "source": [
    "import csv\n",
    "w = csv.writer(open(\"restaurantsimatges.csv\", \"wb\"), delimiter=';')\n",
    "for row in to_write:\n",
    "    w.writerow(row)"
   ]
  },
  {
   "cell_type": "code",
   "execution_count": null,
   "metadata": {
    "collapsed": true
   },
   "outputs": [],
   "source": [
    "for rest in restaurants_extra:\n",
    "    try:\n",
    "        if len(rest['IMAGES'])>= 9:\n",
    "            caca = []\n",
    "            for key in dict.keys(rest):\n",
    "                if key == 'NOMBRE':\n",
    "                    caca.append(rest[key])\n",
    "                if key == 'CALLE':\n",
    "                    caca.append(rest[key])\n",
    "                if key == 'ESPECIALIDAD':\n",
    "                    caca.append(rest[key])\n",
    "                if key == 'COORDENADAS':\n",
    "                    caca.append(rest[key][0])\n",
    "                    caca.append(rest[key][1])\n",
    "                if key == 'IMAGES':\n",
    "                    for i in xrange(0,min(9,len(rest[key]))):\n",
    "                        caca.append(rest[key][i]['url'])\n",
    "            to_write.append(caca)\n",
    "    except KeyError:\n",
    "        None"
   ]
  },
  {
   "cell_type": "code",
   "execution_count": null,
   "metadata": {
    "collapsed": true
   },
   "outputs": [],
   "source": [
    "import csv\n",
    "w = csv.writer(open(\"restaurantsimatges.csv\", \"wb\"), delimiter=';')\n",
    "for row in to_write:\n",
    "    w.writerow(row)"
   ]
  },
  {
   "cell_type": "code",
   "execution_count": 33,
   "metadata": {
    "collapsed": false,
    "scrolled": true
   },
   "outputs": [],
   "source": [
    "final_rest_list_completa_joder = pickle.load(open('/Users/martirossellogomez/Downloads/final_rest_list_final_joder.pkl', 'rb'))"
   ]
  },
  {
   "cell_type": "code",
   "execution_count": 34,
   "metadata": {
    "collapsed": true
   },
   "outputs": [],
   "source": [
    "to_write = [['COORDENADES1', 'COORDENADES2', 'CARRER', 'TIPUS CUINA', 'IMATGE1', 'IMATGE2', \\\n",
    "            'IMATGE3', 'IMATGE4', 'IMATGE5', 'IMATGE6', 'IMATGE7', 'IMATGE8', 'IMATGE9', 'NOM']]\n",
    "for rest in final_rest_list_completa_joder:\n",
    "    try:\n",
    "        if len(rest['IMAGES'])>= 9:\n",
    "            caca = []\n",
    "            for key in dict.keys(rest):\n",
    "                if key == 'NOMBRE':\n",
    "                    caca.append(rest[key])\n",
    "                if key == 'CALLE':\n",
    "                    caca.append(rest[key])\n",
    "                if key == 'ESPECIALIDAD':\n",
    "                    caca.append(rest[key])\n",
    "                if key == 'COORDENADAS':\n",
    "                    caca.append(rest[key][0])\n",
    "                    caca.append(rest[key][1])\n",
    "                if key == 'IMAGES':\n",
    "                    for i in xrange(0,min(24,len(rest[key]))):\n",
    "                        caca.append(rest[key][i]['url'])\n",
    "            to_write.append(caca)\n",
    "    except KeyError:\n",
    "        None"
   ]
  },
  {
   "cell_type": "code",
   "execution_count": 35,
   "metadata": {
    "collapsed": true
   },
   "outputs": [],
   "source": [
    "import csv\n",
    "w = csv.writer(open(\"restaurantsfinal.csv\", \"wb\"), delimiter=';')\n",
    "for row in to_write:\n",
    "    w.writerow(row)"
   ]
  },
  {
   "cell_type": "code",
   "execution_count": 20,
   "metadata": {
    "collapsed": false
   },
   "outputs": [
    {
     "name": "stdout",
     "output_type": "stream",
     "text": [
      "{'LOCATION_CODE': '222681690', 'COORDENADAS': [41.391363, 2.146206], 'CALLE': \"C. Comte d'Urgell, 247\", 'CIUDAD': 'Barcelona', 'ESPECIALIDAD': 'Cocina italiana', 'IMAGES': [{'url': 'https://instagram.fmad3-1.fna.fbcdn.net/t51.2885-15/s640x640/sh0.08/e35/13628471_1076447369096161_225781377_n.jpg?ig_cache_key=MTI5MjM0MjExNTgxNjI0ODEwMg%3D%3D.2', 'text': u'Mexican people are awesome! \\U0001f1f2\\U0001f1fd\\U0001f32e\\U0001f336\\U0001f32f #mexico #barcelona #awesome #dinner #tacos #summer2016 #missthem #germany2013 #come #back', 'tags': [u'mexico', u'barcelona', u'awesome', u'dinner', u'tacos', u'summer2016', u'missthem', u'germany2013', u'come', u'back']}, {'url': 'https://instagram.fmad3-1.fna.fbcdn.net/t51.2885-15/s640x640/sh0.08/e35/c135.0.810.810/13573484_1629478204047171_1178371987_n.jpg?ig_cache_key=MTI5MDc5ODI5NzM3MTQyNDAzOA%3D%3D.2.c', 'text': u'Cumple rafikiiiii \\U0001f648\\U0001f648 @anerol0507 @albalicious91 @angi_18 @soniia11s @susu_cg', 'tags': []}, {'url': 'https://instagram.fmad3-1.fna.fbcdn.net/l/t51.2885-15/s640x640/sh0.08/e35/13534079_1379002442116955_724078787_n.jpg?ig_cache_key=MTI4MTIwODMwNzE5Mjg5MjE5OQ%3D%3D.2', 'text': u'\\U0001f355\\U0001f1ee\\U0001f1f9', 'tags': []}, {'url': 'https://instagram.fmad3-1.fna.fbcdn.net/t51.2885-15/s640x640/sh0.08/e35/13534497_1813715042248068_1827963159_n.jpg?ig_cache_key=MTI4MDc3NDgyNDcxNzEwMjcwOA%3D%3D.2', 'text': u'#birthday celebration of the twins# #andreuydavid#parejas#amigosdetodalavida#\\n#celiaydavid# #andreuyjhoy#\\n#25/06/16#', 'tags': [u'birthday', u'andreuydavid', u'parejas', u'amigosdetodalavida', u'celiaydavid', u'andreuyjhoy', u'25']}, {'url': 'https://instagram.fmad3-1.fna.fbcdn.net/t51.2885-15/s640x640/sh0.08/e35/13423678_843021212470342_45646489_n.jpg?ig_cache_key=MTI3ODI2MDI2MTM2NTAzOTQwOQ%3D%3D.2', 'text': u'Los balcones de il Commendatore ya no est\\xe1n tan altos... Debo haber crecido \\U0001f355\\U0001f35d\\U0001f1ee\\U0001f1f9 #ilcommendatore #barcelona', 'tags': [u'ilcommendatore', u'barcelona']}, {'url': 'https://instagram.fmad3-1.fna.fbcdn.net/t51.2885-15/s640x640/sh0.08/e35/c135.0.809.809/13414213_1709435905943858_1291550831_n.jpg?ig_cache_key=MTI3NTQ0NjMzNDc5Njk4OTA0Mw%3D%3D.2.c', 'text': u'Trabajar el s\\xe1bado, si es con ellos, es mucho mejor! #equipazo #pp #online #ppc #working #igers #barcelona #friends #instapic #pictoftheday', 'tags': [u'equipazo', u'pp', u'online', u'ppc', u'working', u'igers', u'barcelona', u'friends', u'instapic', u'pictoftheday']}, {'url': 'https://instagram.fmad3-1.fna.fbcdn.net/l/t51.2885-15/s640x640/e15/c61.0.958.958/13402551_516029398582237_156186771_n.jpg?ig_cache_key=MTI3MTAwODI3MzAwODg0MzMyNQ%3D%3D.2.c', 'text': u'Il Comendatore \\U0001f60b\\U0001f60b\\U0001f60b\\U0001f60b desde 1974-. #picoftheday #igworldclub #ig_cameras_united #icu_world_family #ig_great_pics #world_great #worldwide_shot #instagood #trip #landscape #instatravel \\n#instadaily #iphonefotography #paisaje #landscape #landslide #food #world #catalonia #spain #girona #cassola #bonacuina #cocinadecasa #casero#italianfood #pizza', 'tags': [u'picoftheday', u'igworldclub', u'ig_cameras_united', u'icu_world_family', u'ig_great_pics', u'world_great', u'worldwide_shot', u'instagood', u'trip', u'landscape', u'instatravel', u'instadaily', u'iphonefotography', u'paisaje', u'landscape', u'landslide', u'food', u'world', u'catalonia', u'spain', u'girona', u'cassola', u'bonacuina', u'cocinadecasa', u'casero', u'italianfood', u'pizza']}, {'url': 'https://instagram.fmad3-1.fna.fbcdn.net/t51.2885-15/s640x640/sh0.08/e35/13423655_1098973386830736_1858153451_n.jpg?ig_cache_key=MTI2OTU2MzA5MzkyODU0OTgyOA%3D%3D.2', 'text': u'Mmmm....que rico!!', 'tags': []}, {'url': 'https://instagram.fmad3-1.fna.fbcdn.net/t51.2885-15/s640x640/sh0.08/e35/13388594_284193168594796_1087788734_n.jpg?ig_cache_key=MTI2OTA2NjYzOTUxNzEwMjU4NA%3D%3D.2', 'text': u'De cenita', 'tags': []}, {'url': 'https://instagram.fmad3-1.fna.fbcdn.net/t51.2885-15/s640x640/sh0.08/e35/13388592_987490454692339_1721873720_n.jpg?ig_cache_key=MTI2NjAyNDc3OTI0MjM2MzA5Mg%3D%3D.2', 'text': u'Il Commendatore comiendo su pizza calzone \\U0001f355', 'tags': []}, {'url': 'https://instagram.fmad3-1.fna.fbcdn.net/t51.2885-15/s640x640/sh0.08/e35/13388525_1033062606780527_1944058624_n.jpg?ig_cache_key=MTI2NTg3Njc3NDYwMjIzMzk4OA%3D%3D.2', 'text': u'En \"Il Commendatore\" con mi sobrino. / In \"Il Commendatore\" with my nephew.', 'tags': []}, {'url': 'https://instagram.fmad3-1.fna.fbcdn.net/t51.2885-15/s640x640/sh0.08/e35/13285251_1915712298655550_1412110308_n.jpg?ig_cache_key=MTI2MzA4MzI3NTQ4NDgxMTE1NA%3D%3D.2', 'text': u'For the last meal, went to a very very nice Italian restaurant. I was gonna be wild and try sumt different but I couldn\\'t figure out what the menu was saying \\U0001f602\\U0001f648 Anyways I understand pizza and I know \"egg\" is protein \\U0001f602 it was delicious and desert was a bangaarr #thatflowerthough', 'tags': [u'thatflowerthough']}, {'url': 'https://instagram.fmad3-1.fna.fbcdn.net/t51.2885-15/e35/c0.42.529.529/13277606_1212257292141886_1185797650_n.jpg?ig_cache_key=MTI2MjQzOTIyNjQ5NDYzODkzMg%3D%3D.2.c', 'text': u'', 'tags': []}, {'url': 'https://instagram.fmad3-1.fna.fbcdn.net/t51.2885-15/s640x640/sh0.08/e35/13259494_1797520107146582_2147071547_n.jpg?ig_cache_key=MTI1OTY1NjIzMjI3OTc2MTU5NQ%3D%3D.2', 'text': u'', 'tags': []}, {'url': 'https://instagram.fmad3-1.fna.fbcdn.net/t51.2885-15/s640x640/sh0.08/e35/c96.0.887.887/13183334_605023999673370_1469443041_n.jpg?ig_cache_key=MTI0NDg4ODAwNDExMjYxNjMyOA%3D%3D.2.c', 'text': u'Cena y postre estupendos, con amigos \\U0001f51d #dinner #dessert #irm\\xe3os #friends #souffle  #cioccolato #chocolate #chocolat #tasty #pizzeria #trattoria #mamma #commendatore #barcelona #instadaily #instagood #instapic #instapicture #picoftheday #finoallafine #sibarita', 'tags': [u'dinner', u'dessert', u'irm', u'friends', u'souffle', u'cioccolato', u'chocolate', u'chocolat', u'tasty', u'pizzeria', u'trattoria', u'mamma', u'commendatore', u'barcelona', u'instadaily', u'instagood', u'instapic', u'instapicture', u'picoftheday', u'finoallafine', u'sibarita']}, {'url': 'https://instagram.fmad3-1.fna.fbcdn.net/t51.2885-15/s640x640/sh0.08/e35/c1.0.1077.1077/12930696_967691783299143_2055618212_n.jpg?ig_cache_key=MTIzNDgxMTIwMjYyMzkxOTcxMw%3D%3D.2.c', 'text': u'#rissoto #funghi e #formaggio a #ilcommendatore #barcelona #italianfood #santjordi #instafood #instagram #instalike #restaurant #trattoria #pizzeria #menjar #food', 'tags': [u'rissoto', u'funghi', u'formaggio', u'ilcommendatore', u'barcelona', u'italianfood', u'santjordi', u'instafood', u'instagram', u'instalike', u'restaurant', u'trattoria', u'pizzeria', u'menjar', u'food']}, {'url': 'https://instagram.fmad3-1.fna.fbcdn.net/t51.2885-15/s640x640/sh0.08/e35/c180.0.720.720/12918434_1337557869604412_2135510375_n.jpg?ig_cache_key=MTIzNDMwNzYzMTAzNzIxMjM4NQ%3D%3D.2.c', 'text': u'Commendattores', 'tags': []}, {'url': 'https://instagram.fmad3-1.fna.fbcdn.net/t51.2885-15/e35/12934853_1736436273239054_1632021077_n.jpg?ig_cache_key=MTIxOTEwMTk3OTQ1OTIyOTIxNw%3D%3D.2', 'text': u'Asi no hay manera de hacer dieta\\U0001f602\\U0001f602 mi se\\xf1or maridito se ha empe\\xf1ado esta noche en fastidiarme mi plan semanal!!! Que bueno que estaba todo!!! \\U0001f61d\\U0001f61d #maridosquedestrozanlasdietas #ricorico #asidagusto #cenasaloloco #instafood #mevengare #noshemospuestolasbotas', 'tags': [u'maridosquedestrozanlasdietas', u'ricorico', u'asidagusto', u'cenasaloloco', u'instafood', u'mevengare', u'noshemospuestolasbotas']}, {'url': 'https://instagram.fmad3-1.fna.fbcdn.net/t51.2885-15/s640x640/sh0.08/e35/12501799_1723391331264550_1067197316_n.jpg?ig_cache_key=MTIxNTM5NjI4MTg4NDQwMzIwNw%3D%3D.2', 'text': u'Buenos momentos vividos en este restaurante desde que eramos novios', 'tags': []}, {'url': 'https://instagram.fmad3-1.fna.fbcdn.net/t51.2885-15/s640x640/sh0.08/e35/12599408_1703235869956218_492868883_n.jpg?ig_cache_key=MTIxNTMwODAwMDc1NDIyMTU1Nw%3D%3D.2', 'text': u'\"He tratado por todos los medios de que te des cuenta de tu individualidad, de tu libertad, de tu absoluta capacidad de crecer sin ayuda de nadie\" Osho', 'tags': []}, {'url': 'https://instagram.fmad3-1.fna.fbcdn.net/t51.2885-15/s640x640/sh0.08/e35/12905023_758343934265746_1873133477_n.jpg?ig_cache_key=MTIxNDczMTAzMDQyNDk3NDc4NQ%3D%3D.2', 'text': u'7a y 11m \\u2764\\ufe0f\\u2764\\ufe0f\\u2764\\ufe0f\\u2764\\ufe0f\\u2764\\ufe0f #pizzatime #cumplemes #tanagustito #love', 'tags': [u'pizzatime', u'cumplemes', u'tanagustito', u'love']}, {'url': 'https://instagram.fmad3-1.fna.fbcdn.net/t51.2885-15/s640x640/sh0.08/e35/c0.135.1080.1080/12816801_830069463770207_1647838085_n.jpg?ig_cache_key=MTIxMzgxNjc0MjQ5MDQ5MTgxMg%3D%3D.2.c', 'text': u'#Pizza #buonabuona en #ilcommendatore  d #Barcelona #Ristorante #Italiano', 'tags': [u'Pizza', u'buonabuona', u'ilcommendatore', u'Barcelona', u'Ristorante', u'Italiano']}, {'url': 'https://instagram.fmad3-1.fna.fbcdn.net/t51.2885-15/s640x640/sh0.08/e35/c0.135.1080.1080/12107578_1671271163090616_1677296739_n.jpg?ig_cache_key=MTIxMjUzNDEzNDEyNjYyNzg0Nw%3D%3D.2.c', 'text': u'#ilcommendatore #dinner #soparsdamics #friends #friendsdinner #panzer #barcelonanights #barcelona #mar\\xe7 #march2016', 'tags': [u'ilcommendatore', u'dinner', u'soparsdamics', u'friends', u'friendsdinner', u'panzer', u'barcelonanights', u'barcelona', u'mar', u'march2016']}, {'url': 'https://instagram.fmad3-1.fna.fbcdn.net/t51.2885-15/s640x640/sh0.08/e35/12230989_499525773584843_1152716417_n.jpg?ig_cache_key=MTIxMTYxOTcyODk5NTMwODMwOA%3D%3D.2', 'text': u'Celebrando momentos, como por ejemplo que nos queremos \\U0001f60d\\U0001f60d #pizzaunmartes #sangriadecava #elnovioperfecto #paraquemas #tq @johnsonn9', 'tags': [u'pizzaunmartes', u'sangriadecava', u'elnovioperfecto', u'paraquemas', u'tq']}, {'url': 'https://instagram.fmad3-1.fna.fbcdn.net/t51.2885-15/s640x640/sh0.08/e35/12328274_1057247064317726_1566524895_n.jpg?ig_cache_key=MTIxMDM4OTIxNDI3MTg0ODY0MQ%3D%3D.2', 'text': u'Tradici\\xf3n familiar, cenar en Il Commendatore', 'tags': []}, {'url': 'https://instagram.fmad3-1.fna.fbcdn.net/t51.2885-15/s640x640/sh0.08/e35/12819133_1198369673519953_1940050818_n.jpg?ig_cache_key=MTIwNDYwNzI1Mjk4NjcwMjU0NQ%3D%3D.2', 'text': u'Amanida Caprese #caprese #capresesalad #italianfood #foodgasm #food #foodporn #pornfood #salad', 'tags': [u'caprese', u'capresesalad', u'italianfood', u'foodgasm', u'food', u'foodporn', u'pornfood', u'salad']}, {'url': 'https://instagram.fmad3-1.fna.fbcdn.net/t51.2885-15/s640x640/sh0.08/e35/12822345_1514929428814631_654533197_n.jpg?ig_cache_key=MTIwNDYwNTQ4Mjc3MjMxMDY3OA%3D%3D.2', 'text': u'Pizza Catalognia, amb buti blanca i negra, cansalada i pebrot #pizza #italianfood #food #foodgasm #foodporn #pornfood #pizzatime #pizzalover #butifarra', 'tags': [u'pizza', u'italianfood', u'food', u'foodgasm', u'foodporn', u'pornfood', u'pizzatime', u'pizzalover', u'butifarra']}, {'url': 'https://instagram.fmad3-1.fna.fbcdn.net/t51.2885-15/s640x640/sh0.08/e35/12783935_1079979858710809_1888391522_n.jpg?ig_cache_key=MTIwNDYwMzI1NTkxNTY1MzczMQ%3D%3D.2', 'text': u'Delici\\xf3s tiramis\\xfa! #tiramisu #food #foodporn #pornfood #foodgasm #italianfood #dessert #dessertporn #dessertstagram #dessertlover', 'tags': [u'tiramisu', u'food', u'foodporn', u'pornfood', u'foodgasm', u'italianfood', u'dessert', u'dessertporn', u'dessertstagram', u'dessertlover']}, {'url': 'https://instagram.fmad3-1.fna.fbcdn.net/l/t51.2885-15/s640x640/sh0.08/e35/12798194_126613504397126_1429724508_n.jpg?ig_cache_key=MTE5ODgwNzA0MjU3NjM3ODY4MQ%3D%3D.2', 'text': u'Ja som tiets! Feli\\xe7os.... Mes que feli\\xe7os...', 'tags': []}, {'url': 'https://instagram.fmad3-1.fna.fbcdn.net/t51.2885-15/s640x640/sh0.08/e35/10683905_465518410307048_796928112_n.jpg?ig_cache_key=MTE5ODA2NDU1MjAxMTM0NDYxNQ%3D%3D.2', 'text': u'#losjuegosdelhambre #sinashucar @cristina0277', 'tags': [u'losjuegosdelhambre', u'sinashucar']}, {'url': 'https://instagram.fmad3-1.fna.fbcdn.net/t51.2885-15/s640x640/sh0.08/e35/c135.0.809.809/12519587_1718432718443448_200921841_n.jpg?ig_cache_key=MTE5NTA5NjExODk4OTE3Nzg5OQ%3D%3D.2.c', 'text': u'Gracias a todos por hacer de la noche de ayer la mejor! Sois muy grandes y estoy orgulloso de teneros a mi lado... Por muchas m\\xe1s como estas... Os quiero! #guapos #mischicas #mischicos #miss #mister #handosme #happy #beautifulpeople #beautifulgirl #instagay #instagood #igers #igersbcn #ilcomendatore #gracias #thanks #birthday #cena #smile #encantado #risas #iloveit #gay #gaybear #instagood #instagramers #instafashion #instagay', 'tags': [u'guapos', u'mischicas', u'mischicos', u'miss', u'mister', u'handosme', u'happy', u'beautifulpeople', u'beautifulgirl', u'instagay', u'instagood', u'igers', u'igersbcn', u'ilcomendatore', u'gracias', u'thanks', u'birthday', u'cena', u'smile', u'encantado', u'risas', u'iloveit', u'gay', u'gaybear', u'instagood', u'instagramers', u'instafashion', u'instagay']}, {'url': 'https://instagram.fmad3-1.fna.fbcdn.net/t51.2885-15/s640x640/sh0.08/e35/12717021_735649773201986_208610527_n.jpg?ig_cache_key=MTE5NTAwMDYzMjg5NjQxOTg2Nw%3D%3D.2', 'text': u'65 a\\xf1os bien llevados!\\u2764\\ufe0f\\u26a1\\ufe0f\\U0001f618\\U0001f35d\\U0001f382 #jubileta #mum #family #telomereces #porfin \\U0001f64c\\U0001f64c', 'tags': [u'jubileta', u'mum', u'family', u'telomereces', u'porfin']}, {'url': 'https://instagram.fmad3-1.fna.fbcdn.net/t51.2885-15/s640x640/sh0.08/e35/12783484_1678766889038453_1781209754_n.jpg?ig_cache_key=MTE5NDQ5MzQ5NTY2NTkwMjExMA%3D%3D.2', 'text': u'Cumple de la Calada!\\U0001f389\\U0001f389', 'tags': []}, {'url': 'https://instagram.fmad3-1.fna.fbcdn.net/t51.2885-15/s640x640/sh0.08/e35/12729466_1572113026444993_839710145_n.jpg?ig_cache_key=MTE5Mjk1ODIxNjE3NjMwMDE1NQ%3D%3D.2', 'text': u\"No hi erem tots per\\xf2 no hi sobra ning\\xfa. Original Dark side!! Els m\\xe9s grans. Enorme dinar 'de feina' en bona companyia. #darkside #fabio #bar\\xe7atv #amics #photo112 #picoftheday #photooftheday\", 'tags': [u'darkside', u'fabio', u'bar', u'amics', u'photo112', u'picoftheday', u'photooftheday']}, {'url': 'https://instagram.fmad3-1.fna.fbcdn.net/t51.2885-15/s640x640/sh0.08/e35/c0.135.1080.1080/12747707_1134753329898438_1607400170_n.jpg?ig_cache_key=MTE5MjA0ODU3MzE1NzQxNzE2Mg%3D%3D.2.c', 'text': u'Bon Appetit #ilcommendatore #italiano #Italia #Barcelona #cornelladelllobregat', 'tags': [u'ilcommendatore', u'italiano', u'Italia', u'Barcelona', u'cornelladelllobregat']}, {'url': 'https://instagram.fmad3-1.fna.fbcdn.net/t51.2885-15/s640x640/sh0.08/e35/12750026_502957916575193_876214892_n.jpg?ig_cache_key=MTE4Nzg4MDYzOTgxMTU5MzA0NQ%3D%3D.2', 'text': u'Doncs ja fa m\\xe9s de 10 anys que ens coneixem i seguim rient com el primer dia. Amics que s\\xf3n com germans @jnomde @mulloretti @mariorobert75 #amics #friends #risasymasrisas #risasmil #risas #muchasrisas #noelscanvioperres  #suertuda #afortunada #riures #alegria', 'tags': [u'amics', u'friends', u'risasymasrisas', u'risasmil', u'risas', u'muchasrisas', u'noelscanvioperres', u'suertuda', u'afortunada', u'riures', u'alegria']}, {'url': 'https://instagram.fmad3-1.fna.fbcdn.net/t51.2885-15/s640x640/sh0.08/e35/12749935_1971103896448118_1915611473_n.jpg?ig_cache_key=MTE4NTAyODIzNTQ4MDYxNzMyMQ%3D%3D.2', 'text': u'\\xbfQu\\xe9 tal os ha ido el d\\xeda? Por aqu\\xed seguimos de celebraci\\xf3n \\U0001f61d \\xa1buenas noches! \\U0001f618 (www.sizetaboo.wordpress.com - link in bio \\u2744) #ilcommendatore #outfitideas4you #instalike #instagood #girls #blogger #fashion #followme #lookbook #winter #barcelona #photooftheday #igers #like4like', 'tags': [u'ilcommendatore', u'outfitideas4you', u'instalike', u'instagood', u'girls', u'blogger', u'fashion', u'followme', u'lookbook', u'winter', u'barcelona', u'photooftheday', u'igers', u'like4like']}, {'url': 'https://instagram.fmad3-1.fna.fbcdn.net/t51.2885-15/e35/12716636_734164130016789_1891476504_n.jpg?ig_cache_key=MTE4NDk1ODI2NzQ0NTM2MjU0MQ%3D%3D.2', 'text': u'', 'tags': []}, {'url': 'https://instagram.fmad3-1.fna.fbcdn.net/t51.2885-15/s640x640/sh0.08/e35/12446156_1522103981427401_469493283_n.jpg?ig_cache_key=MTE4MzU1MjA1NDIzMTM4NDIxNA%3D%3D.2', 'text': u'Discutiendo una vez m\\xe1s con @difreti y @jointer_bcn (a\\xfan por crear) si estamos ante la mejor #pizza de #barcelona', 'tags': [u'pizza', u'barcelona']}, {'url': 'https://instagram.fmad3-1.fna.fbcdn.net/t51.2885-15/s640x640/sh0.08/e35/12599087_1964047620486268_1530703932_n.jpg?ig_cache_key=MTE3ODk0Nzc0MTI4NjQ1NDEzMw%3D%3D.2', 'text': u'Cena italiana \\U0001f355\\U0001f377 #instapic #picoftheday #instadaily #instalike #instagood #pizza #cucinaitaliana #cuina #cocinaitaliana #vino #cena #barcelona #quesuertelamia', 'tags': [u'instapic', u'picoftheday', u'instadaily', u'instalike', u'instagood', u'pizza', u'cucinaitaliana', u'cuina', u'cocinaitaliana', u'vino', u'cena', u'barcelona', u'quesuertelamia']}, {'url': 'https://instagram.fmad3-1.fna.fbcdn.net/t51.2885-15/s640x640/sh0.08/e35/c135.0.810.810/12547574_230514110618285_1387288642_n.jpg?ig_cache_key=MTE3NDczOTcyNTYwMTM0ODQ4OA%3D%3D.2.c', 'text': u'Nos ha gustado tanto Il Commendatore, que no nos hemos acordado de hacer fotos hasta el postre! #tiramisu #tiramis\\xf9 #ilcommendatore #ilcommendatorebcn #barcelona #foodie #italianfood #foodporn #dessert #delicious', 'tags': [u'tiramisu', u'tiramis', u'ilcommendatore', u'ilcommendatorebcn', u'barcelona', u'foodie', u'italianfood', u'foodporn', u'dessert', u'delicious']}, {'url': 'https://instagram.fmad3-1.fna.fbcdn.net/t51.2885-15/s640x640/sh0.08/e35/c123.0.834.834/12552309_784326595046178_169852773_n.jpg?ig_cache_key=MTE3NDI5NjAwOTMwOTA0Njk5Nw%3D%3D.2.c', 'text': u'Te echaremos mucho de menos, \\xc1lvaro', 'tags': []}, {'url': 'https://instagram.fmad3-1.fna.fbcdn.net/t51.2885-15/s640x640/sh0.08/e35/12407332_552944684869143_338690796_n.jpg?ig_cache_key=MTE2OTYyMzUyMTQ1OTQyMTQwMg%3D%3D.2', 'text': u'Dieta definici\\xf3n! Jajajajja #HTers #HashTags #bigbench #cardio #dedication #eatclean #fit #fitness #fitnessgear #flex #focus #grind #grindout #grow #gym #gymlife #instafit #instafitness #lifestyle #motivation #muscle #pushpullgrind #pushpullgrind #ripped #shredded #squat #strength #sweat #swole #trainhard', 'tags': [u'HTers', u'HashTags', u'bigbench', u'cardio', u'dedication', u'eatclean', u'fit', u'fitness', u'fitnessgear', u'flex', u'focus', u'grind', u'grindout', u'grow', u'gym', u'gymlife', u'instafit', u'instafitness', u'lifestyle', u'motivation', u'muscle', u'pushpullgrind', u'pushpullgrind', u'ripped', u'shredded', u'squat', u'strength', u'sweat', u'swole', u'trainhard']}, {'url': 'https://instagram.fmad3-1.fna.fbcdn.net/t51.2885-15/s640x640/sh0.08/e35/12393727_1205551126139842_1731642819_n.jpg?ig_cache_key=MTE2OTA1MTQ4MDY5ODQ3NDc5Mw%3D%3D.2', 'text': u'', 'tags': []}, {'url': 'https://instagram.fmad3-1.fna.fbcdn.net/l/t51.2885-15/e35/c236.0.608.608/12552339_1705734272973992_1647046923_n.jpg?ig_cache_key=MTE2NjQzOTA2NjUzODgwNDAwNA%3D%3D.2.c', 'text': u'Cumple mirechuuuuu \\U0001f60d\\U0001f648\\U0001f382', 'tags': []}, {'url': 'https://instagram.fmad3-1.fna.fbcdn.net/t51.2885-15/s640x640/sh0.08/e35/12543189_1665734170332053_1438871410_n.jpg?ig_cache_key=MTE2MzA3OTkxMDMyMjk0NzA1Mg%3D%3D.2', 'text': u'Muy buena yo estoy en eso', 'tags': []}, {'url': 'https://instagram.fmad3-1.fna.fbcdn.net/t51.2885-15/s640x640/sh0.08/e35/12523618_1648428282076542_1769509919_n.jpg?ig_cache_key=MTE1OTYzMTkwMjIxNTYyOTY2MA%3D%3D.2', 'text': u'', 'tags': []}, {'url': 'https://instagram.fmad3-1.fna.fbcdn.net/t51.2885-15/s640x640/sh0.08/e35/10616724_167376806957720_982137262_n.jpg?ig_cache_key=MTE1ODcwMjU4MjkwNzg2MzAxNw%3D%3D.2', 'text': u'And now my favourite restaurant #happybirthday #lunch #foodie #niceday #birthdaygirl', 'tags': [u'happybirthday', u'lunch', u'foodie', u'niceday', u'birthdaygirl']}, {'url': 'https://instagram.fmad3-1.fna.fbcdn.net/t51.2885-15/e15/12519211_1508881152749745_935077225_n.jpg?ig_cache_key=MTE1Njc4MTY3MDMzNjIwNjAxMg%3D%3D.2', 'text': u'Un altre sopar post-camp nou! Avui a un cl\\xe0ssic #ilcommendatore @jaumells #pizza #bcngourmet #bcndelicatessen #bar\\xe7a #bcn #sopars', 'tags': [u'ilcommendatore', u'pizza', u'bcngourmet', u'bcndelicatessen', u'bar', u'bcn', u'sopars']}, {'url': 'https://instagram.fmad3-1.fna.fbcdn.net/t51.2885-15/s640x640/sh0.08/e35/916540_530718097096565_1881834462_n.jpg?ig_cache_key=MTE1NjYxMTMwNTExNjE5MzMzMA%3D%3D.2', 'text': u'\\U0001f355\\U0001f374\\U0001f445\\U0001f1ee\\U0001f1f9', 'tags': []}, {'url': 'https://instagram.fmad3-1.fna.fbcdn.net/t51.2885-15/s640x640/sh0.08/e35/c0.45.652.652/10655042_158017881231481_1498572768_n.jpg?ig_cache_key=MTE1NDY0OTA2Nzg1MzUwODIwMg%3D%3D.2.c', 'text': u'Nits especials amb una mica del bon menjar itali\\xe0. El millor restaurant itali\\xe0 de Barcelona. :D', 'tags': []}, {'url': 'https://instagram.fmad3-1.fna.fbcdn.net/t51.2885-15/s640x640/sh0.08/e35/1516572_520680308113008_1653624309_n.jpg?ig_cache_key=MTE1MzYwNjY2NTE3OTMzNzg1Mw%3D%3D.2', 'text': u'Fin de a\\xf1o', 'tags': []}, {'url': 'https://instagram.fmad3-1.fna.fbcdn.net/t51.2885-15/s640x640/sh0.08/e35/c135.0.810.810/12331673_1646980568853096_1822861841_n.jpg?ig_cache_key=MTE0Njk1NjY4MjY5OTY3NTE1Ng%3D%3D.2.c', 'text': u'Benvinguda sonieta\\U0001f60d #sopardelrencuentro #finsaviat #bunics #nachofaltas', 'tags': [u'sopardelrencuentro', u'finsaviat', u'bunics', u'nachofaltas']}, {'url': 'https://instagram.fmad3-1.fna.fbcdn.net/t51.2885-15/s640x640/sh0.08/e35/12317626_482149465243686_2034276266_n.jpg?ig_cache_key=MTEzMzM1OTk4NjEyNTQwOTcxMQ%3D%3D.2', 'text': u'Espaguetis carbonara \\U0001f44c', 'tags': []}, {'url': 'https://instagram.fmad3-1.fna.fbcdn.net/t51.2885-15/s640x640/sh0.08/e35/c52.0.960.960/12276953_536762286480283_567009387_n.jpg?ig_cache_key=MTEzMjEyMzk1Mjg3OTg0MzA1MQ%3D%3D.2.c', 'text': u'Pausa en barcelona, y cena con la Lucia', 'tags': []}, {'url': 'https://instagram.fmad3-1.fna.fbcdn.net/t51.2885-15/s640x640/sh0.08/e35/12299009_178044049210953_141154513_n.jpg?ig_cache_key=MTEyOTIzMDUxMDU4MjA3MzkxOA%3D%3D.2', 'text': u'Bona pizza!! #irm\\xe3os #qualit\\xe9 #friends #instamoments #pizza #dinner #picoftheday #tagsforlikes #barcelona', 'tags': [u'irm', u'qualit', u'friends', u'instamoments', u'pizza', u'dinner', u'picoftheday', u'tagsforlikes', u'barcelona']}, {'url': 'https://instagram.fmad3-1.fna.fbcdn.net/t51.2885-15/s640x640/sh0.08/e35/c135.0.810.810/12298904_439371302914968_1338244193_n.jpg?ig_cache_key=MTEyNjY0ODY5MDc0NzE3MTQ2Ng%3D%3D.2.c', 'text': u'No tenemos todo lo que queremos, pero somos felices con lo que tenemos. \\u2764\\ufe0f \\u2800\\u2800\\u2800\\u2800\\u2800\\u2800\\u2800\\u2800\\u2800\\u2800\\u2800\\u2800\\u2800\\u2800\\u2800\\u2800\\u2800\\u2800\\u2800\\u2800\\u2800\\u2800\\u2800\\u2800\\u2800\\u2800\\u2800\\u2800\\u2800\\u2800\\u2800\\u2800\\u2800\\u2800\\u2800\\u2800\\u2800\\u2800\\u2800\\u2800#goodmorning #goodtimeswithgoodpeople #family #reguapos #lunchfood #beautiful #bcn #lastday #celebrations #alovelyspot #picturesque', 'tags': [u'goodmorning', u'goodtimeswithgoodpeople', u'family', u'reguapos', u'lunchfood', u'beautiful', u'bcn', u'lastday', u'celebrations', u'alovelyspot', u'picturesque']}, {'url': 'https://instagram.fmad3-1.fna.fbcdn.net/t51.2885-15/s640x640/sh0.08/e35/12256756_942564515828882_60273601_n.jpg?ig_cache_key=MTEyNjIyNDI1MTUxODcxNTMwNg%3D%3D.2', 'text': u'G R A C I A S \\u2764\\ufe0f #comida\\n#decumple\\n#osquiero\\n#ilcommendatore \\n#bcn\\n#family\\n#love\\n#mis28', 'tags': [u'comida', u'decumple', u'osquiero', u'ilcommendatore', u'bcn', u'family', u'love', u'mis28']}, {'url': 'https://instagram.fmad3-1.fna.fbcdn.net/t51.2885-15/s640x640/sh0.08/e35/12237414_1705489549682346_731319892_n.jpg?ig_cache_key=MTExODM2NTI3Mzk5NDEyMzQxNA%3D%3D.2', 'text': u\"Sopacions d'aniversari amb la millor companyia del m\\xf3n <3\", 'tags': []}, {'url': 'https://instagram.fmad3-1.fna.fbcdn.net/t51.2885-15/s640x640/sh0.08/e35/c135.0.810.810/12106098_1677924279088883_1422830173_n.jpg?ig_cache_key=MTEwOTQxMDg5MDg4NTY2MTIyNw%3D%3D.2.c', 'text': u'Felis Felis (No)cumplea\\xf1os..\\U0001f37e\\U0001f374 #instapic #instafood #ilcommendatore #pasta #italianfood #happymonday #birthday #happybdaytoyou', 'tags': [u'instapic', u'instafood', u'ilcommendatore', u'pasta', u'italianfood', u'happymonday', u'birthday', u'happybdaytoyou']}, {'url': 'https://instagram.fmad3-1.fna.fbcdn.net/t51.2885-15/s640x640/sh0.08/e35/10914142_161890220827043_1673064654_n.jpg?ig_cache_key=MTEwNjYxOTA3NzQyNTY2NDYyNA%3D%3D.2', 'text': u'Cuando una noche vale la pena lo sabes... \\u2764\\ufe0f\\U0001f36b', 'tags': []}, {'url': 'https://instagram.fmad3-1.fna.fbcdn.net/t51.2885-15/s640x640/sh0.08/e35/c135.0.810.810/12080670_1622127628061162_819416979_n.jpg?ig_cache_key=MTA5ODA1NjIzMDQ2MTQ1NzA2Mw%3D%3D.2.c', 'text': u'Tirando de calzone #vaportisobrino #calzonedecarne #sesale #elcommendatore #calzonefitness #vikikaestonoesdetulibroylosabes \\U0001f602', 'tags': [u'vaportisobrino', u'calzonedecarne', u'sesale', u'elcommendatore', u'calzonefitness', u'vikikaestonoesdetulibroylosabes']}, {'url': 'https://instagram.fmad3-1.fna.fbcdn.net/t51.2885-15/s640x640/sh0.08/e35/10616895_1693461547554327_483891686_n.jpg?ig_cache_key=MTA5MjIxNzI0ODM2OTkzNDYyOA%3D%3D.2', 'text': u'Pues nada chicos... Ya son 6 meses! #amore #muchoamor #hyperamor #famila #juntossiemprejuntos #amordeverdad #quelafuerzateacompa\\xf1e #lavidaeslomejorasulado#elamormegusta', 'tags': [u'amore', u'muchoamor', u'hyperamor', u'famila', u'juntossiemprejuntos', u'amordeverdad', u'quelafuerzateacompa', u'lavidaeslomejorasulado', u'elamormegusta']}, {'url': 'https://instagram.fmad3-1.fna.fbcdn.net/t51.2885-15/s640x640/sh0.08/e35/12144064_466938276819499_1246356282_n.jpg?ig_cache_key=MTA4NzMzNzE4NjkzMTMyMDg4MQ%3D%3D.2', 'text': u'Hoy celebramos nosotros tambi\\xe9n tu cumple yaya!!! :) \\u2661 \\u2661 #cumple #fiestasorpresa #mirey #teamo #amigos #graciasatodos', 'tags': [u'cumple', u'fiestasorpresa', u'mirey', u'teamo', u'amigos', u'graciasatodos']}, {'url': 'https://instagram.fmad3-1.fna.fbcdn.net/t51.2885-15/s640x640/sh0.08/e35/12519537_909262209186545_1747608387_n.jpg?ig_cache_key=MTA4MjA5NDI1NTg0NzA4NDczMg%3D%3D.2', 'text': u'Gran cena con mis chavales \\u270c\\U0001f3fd #ilcomandatore #weekend #italiano #dinner', 'tags': [u'ilcomandatore', u'weekend', u'italiano', u'dinner']}, {'url': 'https://instagram.fmad3-1.fna.fbcdn.net/t51.2885-15/s640x640/sh0.08/e35/c135.0.810.810/11856557_428988140620477_1787545173_n.jpg?ig_cache_key=MTA4MjA3Mzc2Mjc4NjU3NjgzNQ%3D%3D.2.c', 'text': u'Aqu\\xed estamos, con el aperitivo #ilcommendatore #miniempanadilla', 'tags': [u'ilcommendatore', u'miniempanadilla']}, {'url': 'https://instagram.fmad3-1.fna.fbcdn.net/t51.2885-15/s640x640/sh0.08/e35/11910075_1659276454285748_280255537_n.jpg?ig_cache_key=MTA3MjQyMTcwMDY3NTg2MTQwMQ%3D%3D.2', 'text': u'Pleasures\\U0001f374 #IlCommendatore', 'tags': [u'IlCommendatore']}, {'url': 'https://instagram.fmad3-1.fna.fbcdn.net/t51.2885-15/s640x640/sh0.08/e35/11253614_1177405732270388_1253083501_n.jpg?ig_cache_key=MTA2MjI2NTgzODAwMzQxNTk2NA%3D%3D.2', 'text': u'D\\xe1ndonos el gusto #estaguapisima #happymoments #pizza #italianfood', 'tags': [u'estaguapisima', u'happymoments', u'pizza', u'italianfood']}, {'url': 'https://instagram.fmad3-1.fna.fbcdn.net/t51.2885-15/s640x640/sh0.08/e35/11910323_969785526406256_1371581551_n.jpg?ig_cache_key=MTA1ODA0NzI1MjY1NTExNTc3MQ%3D%3D.2', 'text': u'', 'tags': []}, {'url': 'https://instagram.fmad3-1.fna.fbcdn.net/t51.2885-15/e15/11899576_1484324485219432_286444210_n.jpg?ig_cache_key=MTA1NjUwNzIyNDQxMzM2NTc1Mw%3D%3D.2', 'text': u'Fetuccini de bogavante con salsa de marisco. #elbuencomer\\U0001f44c', 'tags': [u'elbuencomer']}, {'url': 'https://instagram.fmad3-1.fna.fbcdn.net/t51.2885-15/s640x640/sh0.08/e35/11358157_856392131076568_50052824_n.jpg?ig_cache_key=MTA0Nzc5NTk0ODUyMDMxMjE3OA%3D%3D.2', 'text': u'La pasta de la mamma \\U0001f35d en #ilcommendatore Un restaurante  ambientado en un pueblo de Italia \\U0001f1ee\\U0001f1f9 En la \\U0001f4f7 fetuccini con salsa de Foie al tartufo \\U0001f4cdC/ Comte Urgell, 247 (muy cerca de Francesc Maci\\xe0) \\n#italy #barcelonagourmet #pasta #fetuccini #foie #mamma #lamamma #foodies #italianresraurant #italiano #gastroranking', 'tags': [u'ilcommendatore', u'italy', u'barcelonagourmet', u'pasta', u'fetuccini', u'foie', u'mamma', u'lamamma', u'foodies', u'italianresraurant', u'italiano', u'gastroranking']}, {'url': 'https://instagram.fmad3-1.fna.fbcdn.net/t51.2885-15/s640x640/sh0.08/e35/11311173_1645624219046338_522784603_n.jpg?ig_cache_key=MTA0NjM0OTc0MjEzODk2MzI4MA%3D%3D.2', 'text': u'#food #foodie #pizza #italia #pizzalovers #foodpics #foodpornmid  #foodporn #orgasmospapilares', 'tags': [u'food', u'foodie', u'pizza', u'italia', u'pizzalovers', u'foodpics', u'foodpornmid', u'foodporn', u'orgasmospapilares']}, {'url': 'https://instagram.fmad3-1.fna.fbcdn.net/t51.2885-15/s640x640/sh0.08/e35/11363628_737142769731198_100015186_n.jpg?ig_cache_key=MTA0NDM2MjY2NjczNjg4MDQzNA%3D%3D.2', 'text': u'Els Boniquets\\n\\n#buscandoluz #jejeje #socdebarcelona #pizza #tucancion #botones', 'tags': [u'buscandoluz', u'jejeje', u'socdebarcelona', u'pizza', u'tucancion', u'botones']}, {'url': 'https://instagram.fmad3-1.fna.fbcdn.net/t51.2885-15/s640x640/sh0.08/e35/11335128_476648782509318_322738250_n.jpg?ig_cache_key=MTAzNjkwMTk2MTUzNDc2MzA5Nw%3D%3D.2', 'text': u'', 'tags': []}, {'url': 'https://instagram.fmad3-1.fna.fbcdn.net/t51.2885-15/s640x640/sh0.08/e35/11355223_1623178717971683_316696292_n.jpg?ig_cache_key=MTAzMzYwOTMyMzEwNTIzMzM2NA%3D%3D.2', 'text': u'Els de tota la vida. Sabato pomeriggio. #Comendatore #sabatopomeriggio #pasta #pizza #provolone #carpaccio #pesto #aglioeolio', 'tags': [u'Comendatore', u'sabatopomeriggio', u'pasta', u'pizza', u'provolone', u'carpaccio', u'pesto', u'aglioeolio']}, {'url': 'https://instagram.fmad3-1.fna.fbcdn.net/t51.2885-15/e15/11378784_606603159442756_871722252_n.jpg?ig_cache_key=MTAxMTc3MDExMzkxOTcyNzQwMA%3D%3D.2', 'text': u'Una de ensaladita!! De vez en cuando no va mal. Bueno ... Despu\\xe9s vienen las pizzas..\\U0001f602 #goodtimes #withmybrother#2015 #2015 -#asisi', 'tags': [u'goodtimes', u'withmybrother', u'2015', u'2015', u'asisi']}, {'url': 'https://instagram.fmad3-1.fna.fbcdn.net/t51.2885-15/e15/11371973_1594709520812486_2146509071_n.jpg?ig_cache_key=MTAwMjMzMzQ1ODM5NjMzMzMzMA%3D%3D.2', 'text': u'#rua #triplet #tricampionstv3 #copa #lliga #champions #bcn #fcblive #fcb #fcbarcelona #ig_catalonia #igers #instagram #instagramers #clickat #bus #campions', 'tags': [u'rua', u'triplet', u'tricampionstv3', u'copa', u'lliga', u'champions', u'bcn', u'fcblive', u'fcb', u'fcbarcelona', u'ig_catalonia', u'igers', u'instagram', u'instagramers', u'clickat', u'bus', u'campions']}, {'url': 'https://instagram.fmad3-1.fna.fbcdn.net/t51.2885-15/e15/11326013_1581383135459439_315379417_n.jpg?ig_cache_key=OTk1ODIzODMzMTQwODQzMDI2.2', 'text': u'Cena en buena compa\\xf1\\xeda \\u263a', 'tags': []}, {'url': 'https://instagram.fmad3-1.fna.fbcdn.net/t51.2885-15/e15/11282178_1618244255105805_677916096_n.jpg?ig_cache_key=OTkxNTMxMzgwODgxMjE2MjIy.2', 'text': u'Soparets amb bona companyia que no faltin mai! @marcs1510', 'tags': []}, {'url': 'https://instagram.fmad3-1.fna.fbcdn.net/t51.2885-15/e15/11189857_101317586869802_1180640612_n.jpg?ig_cache_key=OTc2MDIzOTEyOTQ3MTk4MzMz.2', 'text': u'Uno de nuestros sitios favoritos en BCN : IL Commendatore!! Deliciusssss!! @ilcommendatore! #somosloquecomemos #comeresunplacer #barcelona #ilcommendatore #photooftheday #instafood #instagramers #fotodeldia', 'tags': [u'somosloquecomemos', u'comeresunplacer', u'barcelona', u'ilcommendatore', u'photooftheday', u'instafood', u'instagramers', u'fotodeldia']}, {'url': 'https://instagram.fmad3-1.fna.fbcdn.net/t51.2885-15/e15/10899508_1571607839756935_1742139438_n.jpg?ig_cache_key=OTc0ODMwMzcxODk0NTk0OTIx.2', 'text': u'Cena pre #elrow #work #feriadeabril #laquenosespera #IlCommendatore #pizza #cenitas #gemeliers', 'tags': [u'elrow', u'work', u'feriadeabril', u'laquenosespera', u'IlCommendatore', u'pizza', u'cenitas', u'gemeliers']}, {'url': 'https://instagram.fmad3-1.fna.fbcdn.net/t51.2885-15/e15/13108966_561763817330628_1301365002_n.jpg?ig_cache_key=OTY2MTE2MzkxODg3NzcxMzkx.2', 'text': u'Per nosaltres \\U0001f60d @marcpassion #wine #vinituuuu #love #loveisinthevinitu \\U0001f606', 'tags': [u'wine', u'vinituuuu', u'love', u'loveisinthevinitu']}, {'url': 'https://instagram.fmad3-1.fna.fbcdn.net/t51.2885-15/e15/10956811_1593619670895275_648588903_n.jpg?ig_cache_key=OTUyMzMxMzg0NTAyMTIyNzEy.2', 'text': u'Il Commendatore amb les guapes! \\U0001f355\\U0001f374\\U0001f377 #CumpleElvira @sandra_quiros @beatrizfm1995 @albanve16 @elvira.fc', 'tags': [u'CumpleElvira']}, {'url': 'https://instagram.fmad3-1.fna.fbcdn.net/t51.2885-15/e15/11055820_1607151012831996_463568032_n.jpg?ig_cache_key=OTQ4NTI0NzkyOTM2NTkxNzIz.2', 'text': u'Peque\\xf1o viaje a Napoli\\U0001f1ee\\U0001f1f9\\U0001f355 #ilcommendatore #littleitaly #pizza #quiero #viajar', 'tags': [u'ilcommendatore', u'littleitaly', u'pizza', u'quiero', u'viajar']}, {'url': 'https://instagram.fmad3-1.fna.fbcdn.net/t51.2885-15/e15/10570224_874332952624702_1366203569_n.jpg?ig_cache_key=OTM1NzQyMTg0MTUwNjE0MjEw.2', 'text': u'#pizza bolo\\xf1esa', 'tags': [u'pizza']}, {'url': 'https://instagram.fmad3-1.fna.fbcdn.net/t51.2885-15/e15/10963853_1418005595160193_1849739573_n.jpg?ig_cache_key=OTI2MDk4MjM4NjM5MDE4MzU3.2', 'text': u'#italian #bcndelicatesen #bebidas #tapeo #instaf\\xf3od#diner#goodfood#olivas #pasta', 'tags': [u'italian', u'bcndelicatesen', u'bebidas', u'tapeo', u'instaf', u'diner', u'goodfood', u'olivas', u'pasta']}, {'url': 'https://instagram.fmad3-1.fna.fbcdn.net/t51.2885-15/e15/10963997_579360358867971_83374660_n.jpg?ig_cache_key=OTI2MDg2OTM1OTcxMjA1MTIy.2', 'text': u'#rice #rissotto#instalife_shot #food #italian #parmesano #dinners #bcndelicatesen', 'tags': [u'rice', u'rissotto', u'instalife_shot', u'food', u'italian', u'parmesano', u'dinners', u'bcndelicatesen']}, {'url': 'https://instagram.fmad3-1.fna.fbcdn.net/t51.2885-15/e15/11005049_1623755354512537_720571140_n.jpg?ig_cache_key=OTI2MDg2MDkwNTAwMTgzMDE0.2', 'text': u'#tiramissu #dol\\xe7a #instagramers #food #instaf\\xf3od #italian #igerscatalunya #instagood', 'tags': [u'tiramissu', u'dol', u'instagramers', u'food', u'instaf', u'italian', u'igerscatalunya', u'instagood']}, {'url': 'https://instagram.fmad3-1.fna.fbcdn.net/t51.2885-15/e15/10948677_779196062161080_71276830_n.jpg?ig_cache_key=OTA3MzQ0NDU3NjU2NzEzNjc1.2', 'text': u'El culpable de que sea tan tocacojones!! Lo quiero a morir... #papasito #tbt #ilcommendatore #bcn', 'tags': [u'papasito', u'tbt', u'ilcommendatore', u'bcn']}, {'url': 'https://instagram.fmad3-1.fna.fbcdn.net/t51.2885-15/e15/10890659_653747164748151_2037563076_n.jpg?ig_cache_key=ODk0MzQ4MTc0MDIxMjYxMjE3.2', 'text': u'Il Commendatore, en familia #resto #barcelona #family #funny #food #happy', 'tags': [u'resto', u'barcelona', u'family', u'funny', u'food', u'happy']}, {'url': 'https://instagram.fmad3-1.fna.fbcdn.net/t51.2885-15/e15/10903259_397945990364277_607006464_n.jpg?ig_cache_key=ODkzNDA3MTg2MjU2MDQ3ODM5.2', 'text': u'Amistad infinita#elmejorsalsero @vicsmd', 'tags': [u'elmejorsalsero']}, {'url': 'https://instagram.fmad3-1.fna.fbcdn.net/t51.2885-15/e15/10898978_1576894099214838_583960402_n.jpg?ig_cache_key=ODkwMDgwMDY0Mzk4NzcwNzcw.2', 'text': u'Una de las mejores pizzas de toda #barcelona con @difreti @lskss y @jointer_bcn (a\\xfan por crear)', 'tags': [u'barcelona']}, {'url': 'https://instagram.fmad3-1.fna.fbcdn.net/t51.2885-15/e15/10809539_754864654560852_821633699_n.jpg?ig_cache_key=ODY3NjI2NTg0OTM0NzcyODcx.2', 'text': u'S\\xfaper pizzaaaa!! Roquefort, sobrasada, huevo... amor!! Jajajja', 'tags': []}, {'url': 'https://instagram.fmad3-1.fna.fbcdn.net/t51.2885-15/e15/10810075_837131022995833_623917201_n.jpg?ig_cache_key=ODY3NjI0MDUzNzE1MjY4NTIw.2', 'text': u'El culto al cuerpo!! #liao #disfrutalavida', 'tags': [u'liao', u'disfrutalavida']}, {'url': 'https://instagram.fmad3-1.fna.fbcdn.net/t51.2885-15/e15/10810098_1512349105716557_1678532831_n.jpg?ig_cache_key=ODY1MzQ0MTIwNjcwODg5MjQz.2', 'text': u'Un dia perfecto, un poco pasado por agua\\u2614\\ufe0f....pero perfecto como todos a tu lado! \\u2764\\ufe0f\\U0001f43b #ilcommendatore #dinner #sunday #love #loveyou', 'tags': [u'ilcommendatore', u'dinner', u'sunday', u'love', u'loveyou']}, {'url': 'https://instagram.fmad3-1.fna.fbcdn.net/t51.2885-15/e15/10809888_766304703459436_1819530039_n.jpg?ig_cache_key=ODYyNTM1NDkwNjE5Mzk1MTM2.2', 'text': u'Cumplea\\xf1os felissss', 'tags': []}, {'url': 'https://instagram.fmad3-1.fna.fbcdn.net/l/t51.2885-15/e15/10808716_596531157140703_769540020_n.jpg?ig_cache_key=ODU3MzQxNTE4NTk1NDU3Mzkx.2', 'text': u'Il Commendatore 3/5 !! Fin examenes por el momento :)', 'tags': []}, {'url': 'https://instagram.fmad3-1.fna.fbcdn.net/t51.2885-15/e15/891399_844437298921914_421910596_n.jpg?ig_cache_key=ODU0MzAwNDY0MjY3MDA0OTc5.2', 'text': u'', 'tags': []}, {'url': 'https://instagram.fmad3-1.fna.fbcdn.net/t51.2885-15/e15/10802699_382425318573618_129523967_n.jpg?ig_cache_key=ODQ2MzcwNTA0MjUxMjI1MDUy.2', 'text': u'#restaurant #ilcommendatore #bcn #pizzeria #pizza #lamamma #foods #foodie #igersfood #instafood #iphonefood #restaurantilcommendatore #photooftheday #buenisimaspizzas', 'tags': [u'restaurant', u'ilcommendatore', u'bcn', u'pizzeria', u'pizza', u'lamamma', u'foods', u'foodie', u'igersfood', u'instafood', u'iphonefood', u'restaurantilcommendatore', u'photooftheday', u'buenisimaspizzas']}, {'url': 'https://instagram.fmad3-1.fna.fbcdn.net/t51.2885-15/e15/891520_889086517770096_2106299358_n.jpg?ig_cache_key=ODQ2MjA4ODE4MzYxODcyNDk2.2', 'text': u'No solo tiene q ser verano para probar una buena sangria !!! \\U0001f377\\U0001f44c#lomasdelomas #drink #coctel #igersfood #instafood #instadrink #igersdrink #food #foodpics #drinksphotos #like4like #iphonesia #igers #delicious #delicatessen', 'tags': [u'lomasdelomas', u'drink', u'coctel', u'igersfood', u'instafood', u'instadrink', u'igersdrink', u'food', u'foodpics', u'drinksphotos', u'like4like', u'iphonesia', u'igers', u'delicious', u'delicatessen']}, {'url': 'https://instagram.fmad3-1.fna.fbcdn.net/t51.2885-15/e15/10802496_598123030311030_1642019376_n.jpg?ig_cache_key=ODQ1MDQ2OTg0NjEwNTIyOTEz.2', 'text': u'Aix\\xf2 \\xe9s una pizza. I les pizzes a domicili estovades son una mariconada.', 'tags': []}, {'url': 'https://instagram.fmad3-1.fna.fbcdn.net/t51.2885-15/e15/10735101_1560893307476708_735864880_n.jpg?ig_cache_key=ODQwNzcxNjk5MDAxMjY3Njg4.2', 'text': u'Compromisso e trabalho comprido gracias senhor por me proporcionar mais esta etapa \\U0001f64f\\U0001f64f\\U0001f64f', 'tags': []}, {'url': 'https://instagram.fmad3-1.fna.fbcdn.net/t51.2885-15/e15/10727438_564301693703196_1162618967_n.jpg?ig_cache_key=ODMyNzQ1NDM0NjY3MzA5MjE3.2', 'text': u'\\U0001f1ee\\U0001f1f9one of the best pizzas of bcn \\U0001f1ee\\U0001f1f9 #ilcommendatore \\U0001f44c#pizza #pizzabcn #happybday #congratulations #marta #25 \\U0001f389\\U0001f389', 'tags': [u'ilcommendatore', u'pizza', u'pizzabcn', u'happybday', u'congratulations', u'marta', u'25']}, {'url': 'https://instagram.fmad3-1.fna.fbcdn.net/t51.2885-15/e15/10707131_334273773410778_1682073335_n.jpg?ig_cache_key=ODI2MjgwOTM2MDI5NDQ1ODQx.2', 'text': u'Cena familiar cumple mami \\U0001f382 #happybirthday #cenita #ilcommendatore #familia #guapos', 'tags': [u'happybirthday', u'cenita', u'ilcommendatore', u'familia', u'guapos']}, {'url': 'https://instagram.fmad3-1.fna.fbcdn.net/t51.2885-15/e15/10684357_442555289218136_353274783_n.jpg?ig_cache_key=ODI0NzY5MDkzNzM0MzU4MTg1.2', 'text': u'A la rica pizza#ilcomentadore', 'tags': [u'ilcomentadore']}, {'url': 'https://instagram.fmad3-1.fna.fbcdn.net/t51.2885-15/e15/10661274_432773146860606_1827999003_n.jpg?ig_cache_key=ODAzMDg3ODU2NzU5OTgwNDIz.2', 'text': u'Happy bday rubia! #lol', 'tags': [u'lol']}, {'url': 'https://instagram.fmad3-1.fna.fbcdn.net/t51.2885-15/e15/10643856_1482940821977671_1693398912_n.jpg?ig_cache_key=ODAyMTg1NTY1MTE3MjA5OTYw.2', 'text': u'Las tres flores\\U0001f33a juntas!!', 'tags': []}, {'url': 'https://instagram.fmad3-1.fna.fbcdn.net/t51.2885-15/e15/10617031_1550360108525068_2002521518_n.jpg?ig_cache_key=Nzk2NTE0NDEwNTgzMDU3ODQx.2', 'text': u'De cenita rica. #descubriendoBarcelona #cena #italiano', 'tags': [u'descubriendoBarcelona', u'cena', u'italiano']}, {'url': 'https://instagram.fmad3-1.fna.fbcdn.net/t51.2885-15/e15/10616817_1468868116703501_1880359696_n.jpg?ig_cache_key=Nzg5ODAzNDg2NTU2NjMwMzQz.2', 'text': u'Moments....with Torres wine and family \\U0001f377\\U0001f355\\U0001f374 #ilcommendatore #barcelona', 'tags': [u'ilcommendatore', u'barcelona']}, {'url': 'https://instagram.fmad3-1.fna.fbcdn.net/t51.2885-15/e15/10584798_788372381207955_1182004698_n.jpg?ig_cache_key=Nzg2MTA3ODMxMTc0MDY2ODYx.2', 'text': u'Comida rica with the papa!!', 'tags': []}, {'url': 'https://instagram.fmad3-1.fna.fbcdn.net/t51.2885-15/e15/927378_326838194141328_101327565_n.jpg?ig_cache_key=NzYzMTY4NTc4NTg5MjQxNjM5.2', 'text': u'\\u041c\\u043e\\u0439 \\u043d\\u043e\\u0432\\u044b\\u0439 \\u0434\\u0440\\u0443\\u0433 \\U0001f604', 'tags': []}, {'url': 'https://instagram.fmad3-1.fna.fbcdn.net/t51.2885-15/e15/10424561_301301846707566_1040097843_n.jpg?ig_cache_key=NzQ3MjQ1NzI5ODE0ODEyOTQ1.2', 'text': u'The one.', 'tags': []}, {'url': 'https://instagram.fmad3-1.fna.fbcdn.net/t51.2885-15/e15/927100_305138432996731_885488819_n.jpg?ig_cache_key=NzQ0MzEwOTI0MDcxODIxMzAx.2', 'text': u'Welcome home Flyppy!\\n#newscooter#piaggio#summer#start&enjoy', 'tags': [u'newscooter', u'piaggio', u'summer', u'start']}, {'url': 'https://instagram.fmad3-1.fna.fbcdn.net/t51.2885-15/e15/10431966_710065919039069_50851671_n.jpg?ig_cache_key=NzM5Mjk4MTUzNzcyODQ0ODc5.2', 'text': u'Porque los buenos momentos son excelente recordarlos... Riquisima pizza en un lugar super bonito!!! :) #Barcelona #Catalu\\xf1a #Espa\\xf1a', 'tags': [u'Barcelona', u'Catalu', u'Espa']}, {'url': 'https://instagram.fmad3-1.fna.fbcdn.net/t51.2885-15/e15/10424656_504279069699977_1047324851_n.jpg?ig_cache_key=NzMwMzI1MzM5MTk1Nzc3Mzgy.2', 'text': u'bon apetit', 'tags': []}, {'url': 'https://instagram.fmad3-1.fna.fbcdn.net/t51.2885-15/e15/10375849_555492141238054_2023761372_n.jpg?ig_cache_key=NzI1Mjk3NDc0NzM3MTE1Nzk4.2', 'text': u'#il commendotore#instagramers #italiano', 'tags': [u'il', u'instagramers', u'italiano']}, {'url': 'https://instagram.fmad3-1.fna.fbcdn.net/t51.2885-15/e15/924379_244340462433413_383702046_n.jpg?ig_cache_key=NzI1Mjk2MDE1NDcxNjQ1MzAw.2', 'text': u'#Tiramissu#italiano #postre', 'tags': [u'Tiramissu', u'italiano', u'postre']}, {'url': 'https://instagram.fmad3-1.fna.fbcdn.net/t51.2885-15/e15/10311201_1405665836383177_1020710268_n.jpg?ig_cache_key=NzI1Mjk1MTU3OTA0MjQ5NDQx.2', 'text': u'Tarta fina de poma i gelat de canyella#restaurant', 'tags': [u'restaurant']}, {'url': 'https://instagram.fmad3-1.fna.fbcdn.net/t51.2885-15/e15/10413125_1435998836651478_1294834811_n.jpg?ig_cache_key=NzI1Mjg2MjcxMjgxMzY5NDk1.2', 'text': u'#insalata de caprini#restaurants', 'tags': [u'insalata', u'restaurants']}, {'url': 'https://instagram.fmad3-1.fna.fbcdn.net/t51.2885-15/e15/10349332_1505971949625680_73482282_n.jpg?ig_cache_key=NzE4OTQzNjcwNjIzMTA4NjI3.2', 'text': u\"Sopar d'aniversari per comen\\xe7ar de la millor manera possible els 24 \\U0001f63b\\U0001f355 #pizza #birthday #italianfood #boy #Barcelona #vsco #vscocam\", 'tags': [u'pizza', u'birthday', u'italianfood', u'boy', u'Barcelona', u'vsco', u'vscocam']}, {'url': 'https://instagram.fmad3-1.fna.fbcdn.net/t51.2885-15/e15/10261090_227957694069330_616162423_n.jpg?ig_cache_key=NzEyNDMxNTkwODM4MTkxNDY4.2', 'text': u'Noche  de S\\xe1bado.', 'tags': []}, {'url': 'https://instagram.fmad3-1.fna.fbcdn.net/t51.2885-15/e15/10246160_444490742321138_765778886_n.jpg?ig_cache_key=NzExMDU2NTIzNjI3Mjg0NjYz.2', 'text': u'', 'tags': []}, {'url': 'https://instagram.fmad3-1.fna.fbcdn.net/t51.2885-15/e15/1799754_619269214808510_755123832_n.jpg?ig_cache_key=NjY1ODgwMjU5MzEwMDg1ODc3.2', 'text': u'Rojo!', 'tags': []}, {'url': 'https://instagram.fmad3-1.fna.fbcdn.net/t51.2885-15/e15/11296798_451654085002844_1337366157_n.jpg?ig_cache_key=NDQxMzU3NTUwODc4MjYwNTIw.2', 'text': u'il commendatore \\U0001f35d\\U0001f355\\U0001f374#barcelona#italian#restaurant#\\u30a4\\u30bf\\u30ea\\u30a2\\u30f3', 'tags': [u'barcelona', u'italian', u'restaurant']}], 'NOMBRE': 'Il Commendatore', 'DISTRITO': 'Eixample'}\n"
     ]
    }
   ],
   "source": [
    "print final_rest_list_completa_joder[238]"
   ]
  },
  {
   "cell_type": "code",
   "execution_count": 21,
   "metadata": {
    "collapsed": false
   },
   "outputs": [
    {
     "data": {
      "text/plain": [
       "239"
      ]
     },
     "execution_count": 21,
     "metadata": {},
     "output_type": "execute_result"
    }
   ],
   "source": [
    "len(final_rest_list_completa_joder)"
   ]
  },
  {
   "cell_type": "code",
   "execution_count": 27,
   "metadata": {
    "collapsed": false
   },
   "outputs": [
    {
     "name": "stdout",
     "output_type": "stream",
     "text": [
      "175\n"
     ]
    }
   ],
   "source": [
    "counter = 0\n",
    "for rest in final_rest_list_completa_joder:\n",
    "    try:\n",
    "        if len(rest['IMAGES'])>= 24:\n",
    "            counter = counter + 1 \n",
    "    except KeyError:\n",
    "        None\n",
    "print counter"
   ]
  },
  {
   "cell_type": "code",
   "execution_count": 32,
   "metadata": {
    "collapsed": false
   },
   "outputs": [
    {
     "data": {
      "text/html": [
       "<iframe width=\"100%\" height=\"520\" frameborder=\"0\"      src=\"https://instafoodub.carto.com/viz/c952846a-4847-11e6-a44d-0e3ebc282e83/embed_map\"      allowfullscreen webkitallowfullscreen mozallowfullscreen oallowfullscreen msallowfullscreen></iframe>"
      ],
      "text/plain": [
       "<IPython.core.display.HTML object>"
      ]
     },
     "execution_count": 32,
     "metadata": {},
     "output_type": "execute_result"
    }
   ],
   "source": [
    "from IPython.display import HTML\n",
    "HTML('<iframe width=\"100%\" height=\"520\" frameborder=\"0\" \\\n",
    "     src=\"https://instafoodub.carto.com/viz/c952846a-4847-11e6-a44d-0e3ebc282e83/embed_map\" \\\n",
    "     allowfullscreen webkitallowfullscreen mozallowfullscreen oallowfullscreen msallowfullscreen></iframe>')"
   ]
  },
  {
   "cell_type": "code",
   "execution_count": null,
   "metadata": {
    "collapsed": true
   },
   "outputs": [],
   "source": []
  }
 ],
 "metadata": {
  "kernelspec": {
   "display_name": "Python 2",
   "language": "python",
   "name": "python2"
  },
  "language_info": {
   "codemirror_mode": {
    "name": "ipython",
    "version": 2
   },
   "file_extension": ".py",
   "mimetype": "text/x-python",
   "name": "python",
   "nbconvert_exporter": "python",
   "pygments_lexer": "ipython2",
   "version": "2.7.12"
  }
 },
 "nbformat": 4,
 "nbformat_minor": 0
}
